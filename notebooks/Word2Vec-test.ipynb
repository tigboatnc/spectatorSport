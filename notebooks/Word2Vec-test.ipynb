{
 "cells": [
  {
   "cell_type": "markdown",
   "metadata": {},
   "source": [
    "# Word2Vec\n"
   ]
  },
  {
   "cell_type": "code",
   "execution_count": 107,
   "metadata": {},
   "outputs": [],
   "source": [
    "from nltk.tokenize import sent_tokenize, word_tokenize\n",
    "import warnings\n",
    "  \n",
    "warnings.filterwarnings(action = 'ignore')\n",
    "import string\n",
    "import nltk\n",
    "import gensim\n",
    "from gensim.models import Word2Vec\n",
    "import re\n",
    "import pandas as pd \n",
    "from nltk.corpus import stopwords"
   ]
  },
  {
   "cell_type": "markdown",
   "metadata": {},
   "source": [
    "--------------------"
   ]
  },
  {
   "cell_type": "code",
   "execution_count": 82,
   "metadata": {
    "scrolled": true
   },
   "outputs": [
    {
     "data": {
      "text/html": [
       "<div>\n",
       "<style scoped>\n",
       "    .dataframe tbody tr th:only-of-type {\n",
       "        vertical-align: middle;\n",
       "    }\n",
       "\n",
       "    .dataframe tbody tr th {\n",
       "        vertical-align: top;\n",
       "    }\n",
       "\n",
       "    .dataframe thead th {\n",
       "        text-align: right;\n",
       "    }\n",
       "</style>\n",
       "<table border=\"1\" class=\"dataframe\">\n",
       "  <thead>\n",
       "    <tr style=\"text-align: right;\">\n",
       "      <th></th>\n",
       "      <th>Unnamed: 0</th>\n",
       "      <th>art_Unnamed: 0</th>\n",
       "      <th>art_uid</th>\n",
       "      <th>art_article_author</th>\n",
       "      <th>art_article_date</th>\n",
       "      <th>art_article_text</th>\n",
       "      <th>art_article_url</th>\n",
       "      <th>ref_Unnamed: 0</th>\n",
       "      <th>ref_Unnamed: 0.1</th>\n",
       "      <th>ref_uid</th>\n",
       "      <th>...</th>\n",
       "      <th>ref_time</th>\n",
       "      <th>ref_source</th>\n",
       "      <th>ref_time-capture</th>\n",
       "      <th>ref_sc</th>\n",
       "      <th>ref_domain</th>\n",
       "      <th>ref_full-text</th>\n",
       "      <th>ref_sc2</th>\n",
       "      <th>ref_geo</th>\n",
       "      <th>ref_time_parsed</th>\n",
       "      <th>art_extracted_domain</th>\n",
       "    </tr>\n",
       "  </thead>\n",
       "  <tbody>\n",
       "    <tr>\n",
       "      <th>0</th>\n",
       "      <td>0</td>\n",
       "      <td>5</td>\n",
       "      <td>02b5cecd-fac3-4b89-80a2-5bc7d3356d51</td>\n",
       "      <td>['Jake Epstein']</td>\n",
       "      <td>2022-04-04 00:00:00</td>\n",
       "      <td>Lithuania's top diplomat said buying Russian o...</td>\n",
       "      <td>https://www.businessinsider.com/lithuania-dipl...</td>\n",
       "      <td>16</td>\n",
       "      <td>16</td>\n",
       "      <td>02b5cecd-fac3-4b89-80a2-5bc7d3356d51</td>\n",
       "      <td>...</td>\n",
       "      <td>4 hours ago</td>\n",
       "      <td>https://twitter.com/idreesali114/status/151098...</td>\n",
       "      <td>2022-04-04 13:47:10.051481</td>\n",
       "      <td>False</td>\n",
       "      <td>data:image/svg+xml;base64,PHN2ZyB2ZXJzaW9uPSIx...</td>\n",
       "      <td>SourceOn live map\\nTell friends\\n4 hours ago -...</td>\n",
       "      <td>False</td>\n",
       "      <td>54°41′N 25°16′E</td>\n",
       "      <td>2022-04-04 09:50:58</td>\n",
       "      <td>www.businessinsider.com</td>\n",
       "    </tr>\n",
       "    <tr>\n",
       "      <th>1</th>\n",
       "      <td>1</td>\n",
       "      <td>1</td>\n",
       "      <td>8ea2c08f-d9ff-4aa8-b710-9b6f26c7bb39</td>\n",
       "      <td>['Martin Belam', 'Léonie Chao-Fong', 'Gloria O...</td>\n",
       "      <td>2022-04-04 00:00:00</td>\n",
       "      <td>This live blog is now closed, you can follow a...</td>\n",
       "      <td>https://www.theguardian.com/world/live/2022/ap...</td>\n",
       "      <td>17</td>\n",
       "      <td>17</td>\n",
       "      <td>8ea2c08f-d9ff-4aa8-b710-9b6f26c7bb39</td>\n",
       "      <td>...</td>\n",
       "      <td>4 hours ago</td>\n",
       "      <td>https://twitter.com/prm_ua/status/151097769528...</td>\n",
       "      <td>2022-04-04 13:47:14.411519</td>\n",
       "      <td>False</td>\n",
       "      <td>data:image/svg+xml;base64,PHN2ZyB2ZXJzaW9uPSIx...</td>\n",
       "      <td>SourceOn live map\\nTell friends\\n4 hours ago -...</td>\n",
       "      <td>False</td>\n",
       "      <td>50°38′N 29°55′E</td>\n",
       "      <td>2022-04-04 09:50:58</td>\n",
       "      <td>www.theguardian.com</td>\n",
       "    </tr>\n",
       "    <tr>\n",
       "      <th>2</th>\n",
       "      <td>2</td>\n",
       "      <td>2</td>\n",
       "      <td>8ea2c08f-d9ff-4aa8-b710-9b6f26c7bb39</td>\n",
       "      <td>['Writer Smith']</td>\n",
       "      <td>2022-04-04 17:59:18+00:00</td>\n",
       "      <td>The Prosecutor General’s Office was able to re...</td>\n",
       "      <td>https://news84media.com/russia-ukraine/the-wor...</td>\n",
       "      <td>17</td>\n",
       "      <td>17</td>\n",
       "      <td>8ea2c08f-d9ff-4aa8-b710-9b6f26c7bb39</td>\n",
       "      <td>...</td>\n",
       "      <td>4 hours ago</td>\n",
       "      <td>https://twitter.com/prm_ua/status/151097769528...</td>\n",
       "      <td>2022-04-04 13:47:14.411519</td>\n",
       "      <td>False</td>\n",
       "      <td>data:image/svg+xml;base64,PHN2ZyB2ZXJzaW9uPSIx...</td>\n",
       "      <td>SourceOn live map\\nTell friends\\n4 hours ago -...</td>\n",
       "      <td>False</td>\n",
       "      <td>50°38′N 29°55′E</td>\n",
       "      <td>2022-04-04 09:50:58</td>\n",
       "      <td>news84media.com</td>\n",
       "    </tr>\n",
       "    <tr>\n",
       "      <th>3</th>\n",
       "      <td>3</td>\n",
       "      <td>3</td>\n",
       "      <td>8ea2c08f-d9ff-4aa8-b710-9b6f26c7bb39</td>\n",
       "      <td>['Scott Lucas']</td>\n",
       "      <td>2022-04-04 06:24:08+01:00</td>\n",
       "      <td>Larisa Savenko outside her damaged house in Bu...</td>\n",
       "      <td>https://eaworldview.com/2022/04/ukraine-war-bu...</td>\n",
       "      <td>17</td>\n",
       "      <td>17</td>\n",
       "      <td>8ea2c08f-d9ff-4aa8-b710-9b6f26c7bb39</td>\n",
       "      <td>...</td>\n",
       "      <td>4 hours ago</td>\n",
       "      <td>https://twitter.com/prm_ua/status/151097769528...</td>\n",
       "      <td>2022-04-04 13:47:14.411519</td>\n",
       "      <td>False</td>\n",
       "      <td>data:image/svg+xml;base64,PHN2ZyB2ZXJzaW9uPSIx...</td>\n",
       "      <td>SourceOn live map\\nTell friends\\n4 hours ago -...</td>\n",
       "      <td>False</td>\n",
       "      <td>50°38′N 29°55′E</td>\n",
       "      <td>2022-04-04 09:50:58</td>\n",
       "      <td>eaworldview.com</td>\n",
       "    </tr>\n",
       "    <tr>\n",
       "      <th>4</th>\n",
       "      <td>4</td>\n",
       "      <td>4</td>\n",
       "      <td>8ea2c08f-d9ff-4aa8-b710-9b6f26c7bb39</td>\n",
       "      <td>['Iryna Khalip', 'Natallia Radzina', 'Andrei S...</td>\n",
       "      <td>2022-04-04 00:00:00</td>\n",
       "      <td>AFU Repels Enemy Attacks On All Fronts 8 4.04....</td>\n",
       "      <td>https://charter97.org/en/news/2022/4/4/462037/</td>\n",
       "      <td>17</td>\n",
       "      <td>17</td>\n",
       "      <td>8ea2c08f-d9ff-4aa8-b710-9b6f26c7bb39</td>\n",
       "      <td>...</td>\n",
       "      <td>4 hours ago</td>\n",
       "      <td>https://twitter.com/prm_ua/status/151097769528...</td>\n",
       "      <td>2022-04-04 13:47:14.411519</td>\n",
       "      <td>False</td>\n",
       "      <td>data:image/svg+xml;base64,PHN2ZyB2ZXJzaW9uPSIx...</td>\n",
       "      <td>SourceOn live map\\nTell friends\\n4 hours ago -...</td>\n",
       "      <td>False</td>\n",
       "      <td>50°38′N 29°55′E</td>\n",
       "      <td>2022-04-04 09:50:58</td>\n",
       "      <td>charter97.org</td>\n",
       "    </tr>\n",
       "  </tbody>\n",
       "</table>\n",
       "<p>5 rows × 21 columns</p>\n",
       "</div>"
      ],
      "text/plain": [
       "   Unnamed: 0  art_Unnamed: 0                               art_uid  \\\n",
       "0           0               5  02b5cecd-fac3-4b89-80a2-5bc7d3356d51   \n",
       "1           1               1  8ea2c08f-d9ff-4aa8-b710-9b6f26c7bb39   \n",
       "2           2               2  8ea2c08f-d9ff-4aa8-b710-9b6f26c7bb39   \n",
       "3           3               3  8ea2c08f-d9ff-4aa8-b710-9b6f26c7bb39   \n",
       "4           4               4  8ea2c08f-d9ff-4aa8-b710-9b6f26c7bb39   \n",
       "\n",
       "                                  art_article_author  \\\n",
       "0                                   ['Jake Epstein']   \n",
       "1  ['Martin Belam', 'Léonie Chao-Fong', 'Gloria O...   \n",
       "2                                   ['Writer Smith']   \n",
       "3                                    ['Scott Lucas']   \n",
       "4  ['Iryna Khalip', 'Natallia Radzina', 'Andrei S...   \n",
       "\n",
       "            art_article_date  \\\n",
       "0        2022-04-04 00:00:00   \n",
       "1        2022-04-04 00:00:00   \n",
       "2  2022-04-04 17:59:18+00:00   \n",
       "3  2022-04-04 06:24:08+01:00   \n",
       "4        2022-04-04 00:00:00   \n",
       "\n",
       "                                    art_article_text  \\\n",
       "0  Lithuania's top diplomat said buying Russian o...   \n",
       "1  This live blog is now closed, you can follow a...   \n",
       "2  The Prosecutor General’s Office was able to re...   \n",
       "3  Larisa Savenko outside her damaged house in Bu...   \n",
       "4  AFU Repels Enemy Attacks On All Fronts 8 4.04....   \n",
       "\n",
       "                                     art_article_url  ref_Unnamed: 0  \\\n",
       "0  https://www.businessinsider.com/lithuania-dipl...              16   \n",
       "1  https://www.theguardian.com/world/live/2022/ap...              17   \n",
       "2  https://news84media.com/russia-ukraine/the-wor...              17   \n",
       "3  https://eaworldview.com/2022/04/ukraine-war-bu...              17   \n",
       "4     https://charter97.org/en/news/2022/4/4/462037/              17   \n",
       "\n",
       "   ref_Unnamed: 0.1                               ref_uid  ...     ref_time  \\\n",
       "0                16  02b5cecd-fac3-4b89-80a2-5bc7d3356d51  ...  4 hours ago   \n",
       "1                17  8ea2c08f-d9ff-4aa8-b710-9b6f26c7bb39  ...  4 hours ago   \n",
       "2                17  8ea2c08f-d9ff-4aa8-b710-9b6f26c7bb39  ...  4 hours ago   \n",
       "3                17  8ea2c08f-d9ff-4aa8-b710-9b6f26c7bb39  ...  4 hours ago   \n",
       "4                17  8ea2c08f-d9ff-4aa8-b710-9b6f26c7bb39  ...  4 hours ago   \n",
       "\n",
       "                                          ref_source  \\\n",
       "0  https://twitter.com/idreesali114/status/151098...   \n",
       "1  https://twitter.com/prm_ua/status/151097769528...   \n",
       "2  https://twitter.com/prm_ua/status/151097769528...   \n",
       "3  https://twitter.com/prm_ua/status/151097769528...   \n",
       "4  https://twitter.com/prm_ua/status/151097769528...   \n",
       "\n",
       "             ref_time-capture ref_sc  \\\n",
       "0  2022-04-04 13:47:10.051481  False   \n",
       "1  2022-04-04 13:47:14.411519  False   \n",
       "2  2022-04-04 13:47:14.411519  False   \n",
       "3  2022-04-04 13:47:14.411519  False   \n",
       "4  2022-04-04 13:47:14.411519  False   \n",
       "\n",
       "                                          ref_domain  \\\n",
       "0  data:image/svg+xml;base64,PHN2ZyB2ZXJzaW9uPSIx...   \n",
       "1  data:image/svg+xml;base64,PHN2ZyB2ZXJzaW9uPSIx...   \n",
       "2  data:image/svg+xml;base64,PHN2ZyB2ZXJzaW9uPSIx...   \n",
       "3  data:image/svg+xml;base64,PHN2ZyB2ZXJzaW9uPSIx...   \n",
       "4  data:image/svg+xml;base64,PHN2ZyB2ZXJzaW9uPSIx...   \n",
       "\n",
       "                                       ref_full-text ref_sc2          ref_geo  \\\n",
       "0  SourceOn live map\\nTell friends\\n4 hours ago -...   False  54°41′N 25°16′E   \n",
       "1  SourceOn live map\\nTell friends\\n4 hours ago -...   False  50°38′N 29°55′E   \n",
       "2  SourceOn live map\\nTell friends\\n4 hours ago -...   False  50°38′N 29°55′E   \n",
       "3  SourceOn live map\\nTell friends\\n4 hours ago -...   False  50°38′N 29°55′E   \n",
       "4  SourceOn live map\\nTell friends\\n4 hours ago -...   False  50°38′N 29°55′E   \n",
       "\n",
       "       ref_time_parsed     art_extracted_domain  \n",
       "0  2022-04-04 09:50:58  www.businessinsider.com  \n",
       "1  2022-04-04 09:50:58      www.theguardian.com  \n",
       "2  2022-04-04 09:50:58          news84media.com  \n",
       "3  2022-04-04 09:50:58          eaworldview.com  \n",
       "4  2022-04-04 09:50:58            charter97.org  \n",
       "\n",
       "[5 rows x 21 columns]"
      ]
     },
     "execution_count": 82,
     "metadata": {},
     "output_type": "execute_result"
    }
   ],
   "source": [
    "#  input file\n",
    "\n",
    "df = pd.read_csv('../data/processed/author-parse-articles.csv')\n",
    "\n",
    "# Getting Domains From News Websites \n",
    "m = df['art_article_url'].str.extract('(?<=http://)(.*?)(?=/)|(?<=https://)(.*?)(?=/)')\n",
    "m = m[0].fillna(m[1]).fillna(df['art_article_url'])\n",
    "df['art_extracted_domain'] = m\n",
    "df.head()"
   ]
  },
  {
   "cell_type": "code",
   "execution_count": 68,
   "metadata": {},
   "outputs": [
    {
     "data": {
      "text/plain": [
       "0       www.businessinsider.com\n",
       "1           www.theguardian.com\n",
       "2               news84media.com\n",
       "3               eaworldview.com\n",
       "4                 charter97.org\n",
       "                 ...           \n",
       "6342         www.compuserve.com\n",
       "6343         www.denverpost.com\n",
       "6344       hindustannewshub.com\n",
       "6345      albaniandailynews.com\n",
       "6346                theprint.in\n",
       "Name: art_extracted_domain, Length: 6347, dtype: object"
      ]
     },
     "execution_count": 68,
     "metadata": {},
     "output_type": "execute_result"
    }
   ],
   "source": [
    "df['art_extracted_domain']"
   ]
  },
  {
   "cell_type": "code",
   "execution_count": 69,
   "metadata": {},
   "outputs": [],
   "source": [
    "article = df.loc[df['art_extracted_domain']=='www.compuserve.com']"
   ]
  },
  {
   "cell_type": "code",
   "execution_count": 70,
   "metadata": {},
   "outputs": [
    {
     "data": {
      "text/html": [
       "<div>\n",
       "<style scoped>\n",
       "    .dataframe tbody tr th:only-of-type {\n",
       "        vertical-align: middle;\n",
       "    }\n",
       "\n",
       "    .dataframe tbody tr th {\n",
       "        vertical-align: top;\n",
       "    }\n",
       "\n",
       "    .dataframe thead th {\n",
       "        text-align: right;\n",
       "    }\n",
       "</style>\n",
       "<table border=\"1\" class=\"dataframe\">\n",
       "  <thead>\n",
       "    <tr style=\"text-align: right;\">\n",
       "      <th></th>\n",
       "      <th>Unnamed: 0</th>\n",
       "      <th>art_Unnamed: 0</th>\n",
       "      <th>art_uid</th>\n",
       "      <th>art_article_author</th>\n",
       "      <th>art_article_date</th>\n",
       "      <th>art_article_text</th>\n",
       "      <th>art_article_url</th>\n",
       "      <th>ref_Unnamed: 0</th>\n",
       "      <th>ref_Unnamed: 0.1</th>\n",
       "      <th>ref_uid</th>\n",
       "      <th>...</th>\n",
       "      <th>ref_time</th>\n",
       "      <th>ref_source</th>\n",
       "      <th>ref_time-capture</th>\n",
       "      <th>ref_sc</th>\n",
       "      <th>ref_domain</th>\n",
       "      <th>ref_full-text</th>\n",
       "      <th>ref_sc2</th>\n",
       "      <th>ref_geo</th>\n",
       "      <th>ref_time_parsed</th>\n",
       "      <th>art_extracted_domain</th>\n",
       "    </tr>\n",
       "  </thead>\n",
       "  <tbody>\n",
       "    <tr>\n",
       "      <th>6342</th>\n",
       "      <td>6342</td>\n",
       "      <td>8</td>\n",
       "      <td>436ee9aa-945f-4ed3-9566-a0b8f0f018d8</td>\n",
       "      <td>['The Associated Press']</td>\n",
       "      <td>2022-04-06</td>\n",
       "      <td>Live Updates | Russia-Ukraine War\\n\\nWASHINGTO...</td>\n",
       "      <td>https://www.compuserve.com/pf/story/0001/20220...</td>\n",
       "      <td>14</td>\n",
       "      <td>14</td>\n",
       "      <td>436ee9aa-945f-4ed3-9566-a0b8f0f018d8</td>\n",
       "      <td>...</td>\n",
       "      <td>4 hours ago</td>\n",
       "      <td>https://twitter.com/shashj/status/151098248417...</td>\n",
       "      <td>2022-04-04 13:46:59.387389</td>\n",
       "      <td>False</td>\n",
       "      <td>data:image/svg+xml;base64,PHN2ZyB2ZXJzaW9uPSIx...</td>\n",
       "      <td>SourceOn live map\\nTell friends\\n4 hours ago -...</td>\n",
       "      <td>False</td>\n",
       "      <td>59°54′N 10°44′E</td>\n",
       "      <td>2022-04-04 09:50:58</td>\n",
       "      <td>www.compuserve.com</td>\n",
       "    </tr>\n",
       "  </tbody>\n",
       "</table>\n",
       "<p>1 rows × 21 columns</p>\n",
       "</div>"
      ],
      "text/plain": [
       "      Unnamed: 0  art_Unnamed: 0                               art_uid  \\\n",
       "6342        6342               8  436ee9aa-945f-4ed3-9566-a0b8f0f018d8   \n",
       "\n",
       "            art_article_author art_article_date  \\\n",
       "6342  ['The Associated Press']       2022-04-06   \n",
       "\n",
       "                                       art_article_text  \\\n",
       "6342  Live Updates | Russia-Ukraine War\\n\\nWASHINGTO...   \n",
       "\n",
       "                                        art_article_url  ref_Unnamed: 0  \\\n",
       "6342  https://www.compuserve.com/pf/story/0001/20220...              14   \n",
       "\n",
       "      ref_Unnamed: 0.1                               ref_uid  ...  \\\n",
       "6342                14  436ee9aa-945f-4ed3-9566-a0b8f0f018d8  ...   \n",
       "\n",
       "         ref_time                                         ref_source  \\\n",
       "6342  4 hours ago  https://twitter.com/shashj/status/151098248417...   \n",
       "\n",
       "                ref_time-capture ref_sc  \\\n",
       "6342  2022-04-04 13:46:59.387389  False   \n",
       "\n",
       "                                             ref_domain  \\\n",
       "6342  data:image/svg+xml;base64,PHN2ZyB2ZXJzaW9uPSIx...   \n",
       "\n",
       "                                          ref_full-text ref_sc2  \\\n",
       "6342  SourceOn live map\\nTell friends\\n4 hours ago -...   False   \n",
       "\n",
       "              ref_geo      ref_time_parsed art_extracted_domain  \n",
       "6342  59°54′N 10°44′E  2022-04-04 09:50:58   www.compuserve.com  \n",
       "\n",
       "[1 rows x 21 columns]"
      ]
     },
     "execution_count": 70,
     "metadata": {},
     "output_type": "execute_result"
    }
   ],
   "source": [
    "article"
   ]
  },
  {
   "cell_type": "code",
   "execution_count": 71,
   "metadata": {},
   "outputs": [
    {
     "data": {
      "text/plain": [
       "6342    Live Updates | Russia-Ukraine War\\n\\nWASHINGTO...\n",
       "Name: art_article_text, dtype: object"
      ]
     },
     "execution_count": 71,
     "metadata": {},
     "output_type": "execute_result"
    }
   ],
   "source": [
    "article['art_article_text']"
   ]
  },
  {
   "cell_type": "code",
   "execution_count": 83,
   "metadata": {},
   "outputs": [
    {
     "data": {
      "text/plain": [
       "pandas.core.series.Series"
      ]
     },
     "execution_count": 83,
     "metadata": {},
     "output_type": "execute_result"
    }
   ],
   "source": [
    "type(article['art_article_text'])"
   ]
  },
  {
   "cell_type": "markdown",
   "metadata": {},
   "source": [
    "# preprocess the data"
   ]
  },
  {
   "cell_type": "code",
   "execution_count": 84,
   "metadata": {},
   "outputs": [],
   "source": [
    "article = article['art_article_text'].to_frame()"
   ]
  },
  {
   "cell_type": "code",
   "execution_count": 92,
   "metadata": {},
   "outputs": [],
   "source": [
    "type(article['art_article_text'])\n",
    "art_text = article['art_article_text'].to_frame()"
   ]
  },
  {
   "cell_type": "code",
   "execution_count": 93,
   "metadata": {},
   "outputs": [],
   "source": [
    "article['art_article_text']= article['art_article_text'].apply(lambda x: x.lower())\n",
    "article['art_article_text'] =article['art_article_text'].apply(lambda x: re.sub('[%s]' % re.escape(string.punctuation), '' , x))\n",
    "stop_words = set(stopwords.words('english'))\n",
    "stop_words.add('subject')\n",
    "stop_words.add('http')\n",
    "\n",
    "def remove_stopwords(text):\n",
    "    return \" \".join([word for word in str(text).split() if word not in stop_words])\n",
    "\n",
    "article['art_article_text'] = article['art_article_text'].apply(lambda x: remove_stopwords(x))\n",
    "\n",
    "\n"
   ]
  },
  {
   "cell_type": "code",
   "execution_count": 97,
   "metadata": {},
   "outputs": [],
   "source": [
    "article['art_article_text'] = article['art_article_text'].apply(lambda text: re.sub(' +', ' ', text))"
   ]
  },
  {
   "cell_type": "code",
   "execution_count": 98,
   "metadata": {},
   "outputs": [
    {
     "data": {
      "text/plain": [
       "6342    live updates russiaukraine war washington — us...\n",
       "Name: art_article_text, dtype: object"
      ]
     },
     "execution_count": 98,
     "metadata": {},
     "output_type": "execute_result"
    }
   ],
   "source": [
    "article['art_article_text']"
   ]
  },
  {
   "cell_type": "code",
   "execution_count": 99,
   "metadata": {},
   "outputs": [],
   "source": [
    "pre_article = article['art_article_text'].replace(\"\\n\", \" \")"
   ]
  },
  {
   "cell_type": "code",
   "execution_count": 110,
   "metadata": {},
   "outputs": [],
   "source": [
    "pre_article\n",
    "\n",
    "all_sentences = nltk.sent_tokenize(str(pre_article))\n",
    "\n",
    "all_words = [nltk.word_tokenize(sent) for sent in all_sentences]\n",
    "\n",
    "for i in range(len(all_words)):\n",
    "    all_words[i] = [w for w in all_words[i] if w not in stopwords.words('english')]"
   ]
  },
  {
   "cell_type": "code",
   "execution_count": 119,
   "metadata": {},
   "outputs": [
    {
     "data": {
      "text/plain": [
       "[['6342',\n",
       "  'live',\n",
       "  'updates',\n",
       "  'russiaukraine',\n",
       "  'war',\n",
       "  'washington',\n",
       "  '—',\n",
       "  'us',\n",
       "  '...',\n",
       "  'Name',\n",
       "  ':',\n",
       "  'art_article_text',\n",
       "  ',',\n",
       "  'dtype',\n",
       "  ':',\n",
       "  'object']]"
      ]
     },
     "execution_count": 119,
     "metadata": {},
     "output_type": "execute_result"
    }
   ],
   "source": [
    "all_words"
   ]
  },
  {
   "cell_type": "code",
   "execution_count": null,
   "metadata": {},
   "outputs": [],
   "source": []
  },
  {
   "cell_type": "markdown",
   "metadata": {},
   "source": [
    "------------------"
   ]
  },
  {
   "cell_type": "code",
   "execution_count": 105,
   "metadata": {},
   "outputs": [
    {
     "name": "stdout",
     "output_type": "stream",
     "text": [
      "Cosine similarity between 'washington' and 'russiaukraine' - CBOW :  [(':', 0.09315099567174911), ('...', 0.05849593132734299), ('live', 0.038677141070365906), ('6342', 0.009206998161971569), ('—', 0.004760038107633591), ('updates', -0.010427212342619896), ('war', -0.06439965963363647), ('object', -0.07099064439535141), ('art_article_text', -0.11415775120258331), ('us', -0.1395045816898346)]\n",
      "Cosine similarity between 'washington' and 'war' - CBOW :  [(':', 0.109239362180233), ('art_article_text', 0.06103111058473587), ('dtype', 0.04926054924726486), ('object', 0.02743697352707386), ('—', 0.01274148654192686), ('6342', 0.0006383356521837413), ('...', -0.034651242196559906), ('live', -0.0748080238699913), ('name', -0.08916793763637543), ('updates', -0.12377215176820755)]\n",
      "Cosine similarity between 'russiaukraine' and 'war' - Skip Gram :  [('dtype', 0.2058384269475937), ('art_article_text', 0.18956248462200165), ('name', 0.11010506749153137), ('object', 0.10678696632385254), (',', 0.021225901320576668), (':', 0.012576070614159107), ('—', 0.008171825669705868), ('us', 0.0017154670786112547), ('6342', -0.009352745488286018), ('washington', -0.06689136475324631)]\n",
      "Cosine similarity between 'russiaukraine' and 'live' - Skip Gram :  [('dtype', 0.20202796161174774), ('—', 0.10502941161394119), ('us', 0.08959750831127167), ('name', 0.08054831624031067), (':', 0.07926846295595169), ('war', 0.07253299653530121), ('updates', 0.030206691473722458), (',', 0.022759683430194855), ('washington', 0.0209434125572443), ('6342', -0.056393761187791824)]\n"
     ]
    }
   ],
   "source": [
    "data = []\n",
    "  \n",
    "# iterate through each sentence in the file\n",
    "for i in sent_tokenize(str(pre_article)):\n",
    "    temp = []\n",
    "      \n",
    "    # tokenize the sentence into words\n",
    "    for j in word_tokenize(i):\n",
    "        temp.append(j.lower())\n",
    "  \n",
    "    data.append(temp)\n",
    "# Create CBOW model\n",
    "model1 = gensim.models.Word2Vec(data, min_count = 1, \n",
    "                              vector_size = 100, window = 5)\n",
    "  \n",
    "# Print results\n",
    "print(\"Cosine similarity between 'washington' \" + \n",
    "               \"and 'russiaukraine' - CBOW : \",\n",
    "    model1.wv.most_similar('washington', 'russiaukraine'))\n",
    "      \n",
    "print(\"Cosine similarity between 'washington' \" +\n",
    "                 \"and 'war' - CBOW : \",\n",
    "      model1.wv.most_similar('washington', 'war'))\n",
    "  \n",
    "# Create Skip Gram model\n",
    "model2 = gensim.models.Word2Vec(data, min_count = 1, vector_size = 100,\n",
    "                                             window = 5, sg = 1)\n",
    "  \n",
    "# Print results\n",
    "print(\"Cosine similarity between 'russiaukraine' \" +\n",
    "          \"and 'war' - Skip Gram : \",\n",
    "    model2.wv.most_similar('russiaukraine', 'war'))\n",
    "      \n",
    "print(\"Cosine similarity between 'russiaukraine' \" +\n",
    "            \"and 'live' - Skip Gram : \",\n",
    "      model2.wv.most_similar('russiaukraine', 'live'))"
   ]
  },
  {
   "cell_type": "code",
   "execution_count": 135,
   "metadata": {},
   "outputs": [],
   "source": [
    "word2vec = Word2Vec(all_words, min_count=2)"
   ]
  },
  {
   "cell_type": "code",
   "execution_count": 136,
   "metadata": {},
   "outputs": [],
   "source": [
    "vocabulary = word2vec.wv.index_to_key"
   ]
  },
  {
   "cell_type": "code",
   "execution_count": 134,
   "metadata": {},
   "outputs": [],
   "source": [
    "# can be used to find the similar words\n",
    "sim_words = word2vec.wv.most_similar('war')"
   ]
  },
  {
   "cell_type": "code",
   "execution_count": null,
   "metadata": {},
   "outputs": [],
   "source": []
  }
 ],
 "metadata": {
  "kernelspec": {
   "display_name": "Python 3",
   "language": "python",
   "name": "python3"
  },
  "language_info": {
   "codemirror_mode": {
    "name": "ipython",
    "version": 3
   },
   "file_extension": ".py",
   "mimetype": "text/x-python",
   "name": "python",
   "nbconvert_exporter": "python",
   "pygments_lexer": "ipython3",
   "version": "3.8.5"
  }
 },
 "nbformat": 4,
 "nbformat_minor": 4
}
