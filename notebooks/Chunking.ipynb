{
 "cells": [
  {
   "cell_type": "code",
   "execution_count": 1,
   "id": "00baa439",
   "metadata": {},
   "outputs": [],
   "source": [
    "import spacy"
   ]
  },
  {
   "cell_type": "code",
   "execution_count": 2,
   "id": "f9ad8005",
   "metadata": {},
   "outputs": [],
   "source": [
    "import transformers\n",
    "from transformers import pipeline"
   ]
  },
  {
   "cell_type": "code",
   "execution_count": 3,
   "id": "adc7ffb2",
   "metadata": {},
   "outputs": [
    {
     "name": "stderr",
     "output_type": "stream",
     "text": [
      "Some weights of the model checkpoint at joeddav/xlm-roberta-large-xnli were not used when initializing XLMRobertaForSequenceClassification: ['roberta.pooler.dense.bias', 'roberta.pooler.dense.weight']\n",
      "- This IS expected if you are initializing XLMRobertaForSequenceClassification from the checkpoint of a model trained on another task or with another architecture (e.g. initializing a BertForSequenceClassification model from a BertForPreTraining model).\n",
      "- This IS NOT expected if you are initializing XLMRobertaForSequenceClassification from the checkpoint of a model that you expect to be exactly identical (initializing a BertForSequenceClassification model from a BertForSequenceClassification model).\n"
     ]
    }
   ],
   "source": [
    "classifier = pipeline(\"zero-shot-classification\", model=\"joeddav/xlm-roberta-large-xnli\")"
   ]
  },
  {
   "cell_type": "code",
   "execution_count": 4,
   "id": "d9a6687c",
   "metadata": {},
   "outputs": [
    {
     "data": {
      "text/plain": [
       "{'sequence': 'Ukrainian armed forces released several videos it says show drone strikes on Russian targets. The Bayraktar TB2 drone has taken an outsize role in defending Ukraine. Ukrainian forces did not name the locations of the hits, which are difficult to verify. Sign up for our weekday newsletter, packed with original analysis, news, and trends — delivered right to your inbox. Loading Something is loading. Email address By clicking ‘Sign up’, you agree to receive marketing emails from Insider as well as other partner offers and accept our Terms of Service and Privacy Policy\\nUkraine\\'s military published several videos it says show its prized Bayraktar TB2 drones at work destroying targets controlled by Russian forces. Over the weekend, the Ukrainian army commander-in-chief\\'s Facebook page posted five clips showing the strikes, though giving little detail of the exact locations or targets. The drones have been hailed as a game-changer by the Ukrainian military, and have been credited with destroyed large numbers of Russian armored vehicles, gaining heroic status among the Ukrainian people. The videos have been keenly recieved, amassing some 1.2 million Facebook views as of Monday, with many reposted on other networks to vast audiences. Insider was unable to verify the footage, or the named targets. The first, dated March 12, purported to show the destruction of a Russian electronic warfare system near Kyiv. \"Our Bayraktar TB2 operators masterfully \\'tested\\' the enemy\\'s electronic warfare system in the Kyiv region,\" said its caption. The footage appears to have been taken with a camera held close to a monitor screen, a common format for Ukraine\\'s Bayraktar videos. Someone\\'s reflection could be seen and a buzz of chatter was also recorded. Another 18-second video posted on Saturday said one of the drones had destroyed a multiple rocket launcher. \"Bayraktars in action!\" the post said. \"Hundreds of saved lives of our fellow citizens, especially civilians!\" Later that day, a third video post claimed a Bayraktar had taken out a Russian army command post: Neither of those videos gave a location. A final video dated March 13 claimed to show the destruction of an artillery fire control point — a system to coordinate and direct ranged weapons. Ukraine had between five and 20 of the drones in service before the invasion, according to The New York Times. The drones can reach altitudes of 25,000 feet and fly for 27 continuous hours, per their manufacturers. They can be operated remotely from up to 300 km away, with each one capable of bearing four laser-guided bombs or rockets, for a total payload of some 150 kilograms. Russia claims to have shot some down, while Ukraine\\'s defense minister claimed to have received more since the war began, leaving the number in service unclear. ',\n",
       " 'labels': ['people suffering', 'violation', 'sanction', 'peace'],\n",
       " 'scores': [0.28175556659698486,\n",
       "  0.261107861995697,\n",
       "  0.23192250728607178,\n",
       "  0.22521398961544037]}"
      ]
     },
     "execution_count": 4,
     "metadata": {},
     "output_type": "execute_result"
    }
   ],
   "source": [
    "sequence_to_classify_0 = '''Ukrainian armed forces released several videos it says show drone strikes on Russian targets. \\\n",
    "The Bayraktar TB2 drone has taken an outsize role in defending Ukraine. \\\n",
    "Ukrainian forces did not name the locations of the hits, which are difficult to verify. \\\n",
    "Sign up for our weekday newsletter, packed with original analysis, news, and trends — delivered right to your inbox. Loading Something is loading. Email address By clicking ‘Sign up’, you agree to receive marketing emails from Insider as well as other partner offers and accept our Terms of Service and Privacy Policy\n",
    "Ukraine's military published several videos it says show its prized Bayraktar TB2 drones at work destroying targets controlled by Russian forces. \\\n",
    "Over the weekend, the Ukrainian army commander-in-chief's Facebook page posted five clips showing the strikes, though giving little detail of the exact locations or targets. \\\n",
    "The drones have been hailed as a game-changer by the Ukrainian military, and have been credited with destroyed large numbers of Russian armored vehicles, gaining heroic status among the Ukrainian people. \\\n",
    "The videos have been keenly recieved, amassing some 1.2 million Facebook views as of Monday, with many reposted on other networks to vast audiences. Insider was unable to verify the footage, or the named targets. \\\n",
    "The first, dated March 12, purported to show the destruction of a Russian electronic warfare system near Kyiv. \\\n",
    "\"Our Bayraktar TB2 operators masterfully 'tested' the enemy's electronic warfare system in the Kyiv region,\" said its caption. \\\n",
    "The footage appears to have been taken with a camera held close to a monitor screen, a common format for Ukraine's Bayraktar videos. Someone's reflection could be seen and a buzz of chatter was also recorded. \\\n",
    "Another 18-second video posted on Saturday said one of the drones had destroyed a multiple rocket launcher. \\\n",
    "\"Bayraktars in action!\" the post said. \"Hundreds of saved lives of our fellow citizens, especially civilians!\" \\\n",
    "Later that day, a third video post claimed a Bayraktar had taken out a Russian army command post: Neither of those videos gave a location. \\\n",
    "A final video dated March 13 claimed to show the destruction of an artillery fire control point — a system to coordinate and direct ranged weapons. \\\n",
    "Ukraine had between five and 20 of the drones in service before the invasion, according to The New York Times. \\\n",
    "The drones can reach altitudes of 25,000 feet and fly for 27 continuous hours, per their manufacturers. \\\n",
    "They can be operated remotely from up to 300 km away, with each one capable of bearing four laser-guided bombs or rockets, for a total payload of some 150 kilograms. \\\n",
    "Russia claims to have shot some down, while Ukraine's defense minister claimed to have received more since the war began, leaving the number in service unclear. \\\n",
    "'''\n",
    "\n",
    "\n",
    "\n",
    "candidate_labels_0 = ['violation', 'sanction', 'people suffering','peace']\n",
    "\n",
    "\n",
    "classifier(sequence_to_classify_0, candidate_labels_0)\n",
    "\n",
    "\n",
    "\n"
   ]
  },
  {
   "cell_type": "code",
   "execution_count": null,
   "id": "61941bfc",
   "metadata": {},
   "outputs": [],
   "source": []
  }
 ],
 "metadata": {
  "kernelspec": {
   "display_name": "Python 3 (ipykernel)",
   "language": "python",
   "name": "python3"
  },
  "language_info": {
   "codemirror_mode": {
    "name": "ipython",
    "version": 3
   },
   "file_extension": ".py",
   "mimetype": "text/x-python",
   "name": "python",
   "nbconvert_exporter": "python",
   "pygments_lexer": "ipython3",
   "version": "3.7.11"
  }
 },
 "nbformat": 4,
 "nbformat_minor": 5
}
