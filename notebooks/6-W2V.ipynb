{
 "cells": [
  {
   "cell_type": "code",
   "execution_count": 24,
   "metadata": {},
   "outputs": [],
   "source": [
    "import re  # For preprocessing\n",
    "import pandas as pd  # For data handling\n",
    "from time import time  # To time our operations\n",
    "from collections import defaultdict  # For word frequency\n",
    "\n",
    "import spacy  # For preprocessing\n",
    "\n",
    "import logging  # Setting up the loggings to monitor gensim\n",
    "logging.basicConfig(format=\"%(levelname)s - %(asctime)s: %(message)s\", datefmt= '%H:%M:%S', level=logging.INFO)\n",
    "\n",
    "from gensim.models.phrases import Phrases, Phraser\n",
    "\n",
    "import gensim\n",
    "import multiprocessing\n",
    "\n",
    "from gensim.models import Word2Vec"
   ]
  },
  {
   "cell_type": "code",
   "execution_count": 2,
   "metadata": {},
   "outputs": [
    {
     "data": {
      "text/html": [
       "<div>\n",
       "<style scoped>\n",
       "    .dataframe tbody tr th:only-of-type {\n",
       "        vertical-align: middle;\n",
       "    }\n",
       "\n",
       "    .dataframe tbody tr th {\n",
       "        vertical-align: top;\n",
       "    }\n",
       "\n",
       "    .dataframe thead th {\n",
       "        text-align: right;\n",
       "    }\n",
       "</style>\n",
       "<table border=\"1\" class=\"dataframe\">\n",
       "  <thead>\n",
       "    <tr style=\"text-align: right;\">\n",
       "      <th></th>\n",
       "      <th>Unnamed: 0</th>\n",
       "      <th>art_Unnamed: 0</th>\n",
       "      <th>art_uid</th>\n",
       "      <th>art_article_author</th>\n",
       "      <th>art_article_date</th>\n",
       "      <th>art_article_text</th>\n",
       "      <th>art_article_url</th>\n",
       "      <th>ref_Unnamed: 0</th>\n",
       "      <th>ref_Unnamed: 0.1</th>\n",
       "      <th>ref_uid</th>\n",
       "      <th>...</th>\n",
       "      <th>ref_time</th>\n",
       "      <th>ref_source</th>\n",
       "      <th>ref_time-capture</th>\n",
       "      <th>ref_sc</th>\n",
       "      <th>ref_domain</th>\n",
       "      <th>ref_full-text</th>\n",
       "      <th>ref_sc2</th>\n",
       "      <th>ref_geo</th>\n",
       "      <th>ref_time_parsed</th>\n",
       "      <th>art_extracted_domain</th>\n",
       "    </tr>\n",
       "  </thead>\n",
       "  <tbody>\n",
       "    <tr>\n",
       "      <th>0</th>\n",
       "      <td>0</td>\n",
       "      <td>5</td>\n",
       "      <td>02b5cecd-fac3-4b89-80a2-5bc7d3356d51</td>\n",
       "      <td>['Jake Epstein']</td>\n",
       "      <td>2022-04-04 00:00:00</td>\n",
       "      <td>Lithuania's top diplomat said buying Russian o...</td>\n",
       "      <td>https://www.businessinsider.com/lithuania-dipl...</td>\n",
       "      <td>16</td>\n",
       "      <td>16</td>\n",
       "      <td>02b5cecd-fac3-4b89-80a2-5bc7d3356d51</td>\n",
       "      <td>...</td>\n",
       "      <td>4 hours ago</td>\n",
       "      <td>https://twitter.com/idreesali114/status/151098...</td>\n",
       "      <td>2022-04-04 13:47:10.051481</td>\n",
       "      <td>False</td>\n",
       "      <td>data:image/svg+xml;base64,PHN2ZyB2ZXJzaW9uPSIx...</td>\n",
       "      <td>SourceOn live map\\nTell friends\\n4 hours ago -...</td>\n",
       "      <td>False</td>\n",
       "      <td>54°41′N 25°16′E</td>\n",
       "      <td>2022-04-04 09:50:58</td>\n",
       "      <td>www.businessinsider.com</td>\n",
       "    </tr>\n",
       "    <tr>\n",
       "      <th>1</th>\n",
       "      <td>1</td>\n",
       "      <td>1</td>\n",
       "      <td>8ea2c08f-d9ff-4aa8-b710-9b6f26c7bb39</td>\n",
       "      <td>['Martin Belam', 'Léonie Chao-Fong', 'Gloria O...</td>\n",
       "      <td>2022-04-04 00:00:00</td>\n",
       "      <td>This live blog is now closed, you can follow a...</td>\n",
       "      <td>https://www.theguardian.com/world/live/2022/ap...</td>\n",
       "      <td>17</td>\n",
       "      <td>17</td>\n",
       "      <td>8ea2c08f-d9ff-4aa8-b710-9b6f26c7bb39</td>\n",
       "      <td>...</td>\n",
       "      <td>4 hours ago</td>\n",
       "      <td>https://twitter.com/prm_ua/status/151097769528...</td>\n",
       "      <td>2022-04-04 13:47:14.411519</td>\n",
       "      <td>False</td>\n",
       "      <td>data:image/svg+xml;base64,PHN2ZyB2ZXJzaW9uPSIx...</td>\n",
       "      <td>SourceOn live map\\nTell friends\\n4 hours ago -...</td>\n",
       "      <td>False</td>\n",
       "      <td>50°38′N 29°55′E</td>\n",
       "      <td>2022-04-04 09:50:58</td>\n",
       "      <td>www.theguardian.com</td>\n",
       "    </tr>\n",
       "    <tr>\n",
       "      <th>2</th>\n",
       "      <td>2</td>\n",
       "      <td>2</td>\n",
       "      <td>8ea2c08f-d9ff-4aa8-b710-9b6f26c7bb39</td>\n",
       "      <td>['Writer Smith']</td>\n",
       "      <td>2022-04-04 17:59:18+00:00</td>\n",
       "      <td>The Prosecutor General’s Office was able to re...</td>\n",
       "      <td>https://news84media.com/russia-ukraine/the-wor...</td>\n",
       "      <td>17</td>\n",
       "      <td>17</td>\n",
       "      <td>8ea2c08f-d9ff-4aa8-b710-9b6f26c7bb39</td>\n",
       "      <td>...</td>\n",
       "      <td>4 hours ago</td>\n",
       "      <td>https://twitter.com/prm_ua/status/151097769528...</td>\n",
       "      <td>2022-04-04 13:47:14.411519</td>\n",
       "      <td>False</td>\n",
       "      <td>data:image/svg+xml;base64,PHN2ZyB2ZXJzaW9uPSIx...</td>\n",
       "      <td>SourceOn live map\\nTell friends\\n4 hours ago -...</td>\n",
       "      <td>False</td>\n",
       "      <td>50°38′N 29°55′E</td>\n",
       "      <td>2022-04-04 09:50:58</td>\n",
       "      <td>news84media.com</td>\n",
       "    </tr>\n",
       "    <tr>\n",
       "      <th>3</th>\n",
       "      <td>3</td>\n",
       "      <td>3</td>\n",
       "      <td>8ea2c08f-d9ff-4aa8-b710-9b6f26c7bb39</td>\n",
       "      <td>['Scott Lucas']</td>\n",
       "      <td>2022-04-04 06:24:08+01:00</td>\n",
       "      <td>Larisa Savenko outside her damaged house in Bu...</td>\n",
       "      <td>https://eaworldview.com/2022/04/ukraine-war-bu...</td>\n",
       "      <td>17</td>\n",
       "      <td>17</td>\n",
       "      <td>8ea2c08f-d9ff-4aa8-b710-9b6f26c7bb39</td>\n",
       "      <td>...</td>\n",
       "      <td>4 hours ago</td>\n",
       "      <td>https://twitter.com/prm_ua/status/151097769528...</td>\n",
       "      <td>2022-04-04 13:47:14.411519</td>\n",
       "      <td>False</td>\n",
       "      <td>data:image/svg+xml;base64,PHN2ZyB2ZXJzaW9uPSIx...</td>\n",
       "      <td>SourceOn live map\\nTell friends\\n4 hours ago -...</td>\n",
       "      <td>False</td>\n",
       "      <td>50°38′N 29°55′E</td>\n",
       "      <td>2022-04-04 09:50:58</td>\n",
       "      <td>eaworldview.com</td>\n",
       "    </tr>\n",
       "    <tr>\n",
       "      <th>4</th>\n",
       "      <td>4</td>\n",
       "      <td>4</td>\n",
       "      <td>8ea2c08f-d9ff-4aa8-b710-9b6f26c7bb39</td>\n",
       "      <td>['Iryna Khalip', 'Natallia Radzina', 'Andrei S...</td>\n",
       "      <td>2022-04-04 00:00:00</td>\n",
       "      <td>AFU Repels Enemy Attacks On All Fronts 8 4.04....</td>\n",
       "      <td>https://charter97.org/en/news/2022/4/4/462037/</td>\n",
       "      <td>17</td>\n",
       "      <td>17</td>\n",
       "      <td>8ea2c08f-d9ff-4aa8-b710-9b6f26c7bb39</td>\n",
       "      <td>...</td>\n",
       "      <td>4 hours ago</td>\n",
       "      <td>https://twitter.com/prm_ua/status/151097769528...</td>\n",
       "      <td>2022-04-04 13:47:14.411519</td>\n",
       "      <td>False</td>\n",
       "      <td>data:image/svg+xml;base64,PHN2ZyB2ZXJzaW9uPSIx...</td>\n",
       "      <td>SourceOn live map\\nTell friends\\n4 hours ago -...</td>\n",
       "      <td>False</td>\n",
       "      <td>50°38′N 29°55′E</td>\n",
       "      <td>2022-04-04 09:50:58</td>\n",
       "      <td>charter97.org</td>\n",
       "    </tr>\n",
       "  </tbody>\n",
       "</table>\n",
       "<p>5 rows × 21 columns</p>\n",
       "</div>"
      ],
      "text/plain": [
       "   Unnamed: 0  art_Unnamed: 0                               art_uid  \\\n",
       "0           0               5  02b5cecd-fac3-4b89-80a2-5bc7d3356d51   \n",
       "1           1               1  8ea2c08f-d9ff-4aa8-b710-9b6f26c7bb39   \n",
       "2           2               2  8ea2c08f-d9ff-4aa8-b710-9b6f26c7bb39   \n",
       "3           3               3  8ea2c08f-d9ff-4aa8-b710-9b6f26c7bb39   \n",
       "4           4               4  8ea2c08f-d9ff-4aa8-b710-9b6f26c7bb39   \n",
       "\n",
       "                                  art_article_author  \\\n",
       "0                                   ['Jake Epstein']   \n",
       "1  ['Martin Belam', 'Léonie Chao-Fong', 'Gloria O...   \n",
       "2                                   ['Writer Smith']   \n",
       "3                                    ['Scott Lucas']   \n",
       "4  ['Iryna Khalip', 'Natallia Radzina', 'Andrei S...   \n",
       "\n",
       "            art_article_date  \\\n",
       "0        2022-04-04 00:00:00   \n",
       "1        2022-04-04 00:00:00   \n",
       "2  2022-04-04 17:59:18+00:00   \n",
       "3  2022-04-04 06:24:08+01:00   \n",
       "4        2022-04-04 00:00:00   \n",
       "\n",
       "                                    art_article_text  \\\n",
       "0  Lithuania's top diplomat said buying Russian o...   \n",
       "1  This live blog is now closed, you can follow a...   \n",
       "2  The Prosecutor General’s Office was able to re...   \n",
       "3  Larisa Savenko outside her damaged house in Bu...   \n",
       "4  AFU Repels Enemy Attacks On All Fronts 8 4.04....   \n",
       "\n",
       "                                     art_article_url  ref_Unnamed: 0  \\\n",
       "0  https://www.businessinsider.com/lithuania-dipl...              16   \n",
       "1  https://www.theguardian.com/world/live/2022/ap...              17   \n",
       "2  https://news84media.com/russia-ukraine/the-wor...              17   \n",
       "3  https://eaworldview.com/2022/04/ukraine-war-bu...              17   \n",
       "4     https://charter97.org/en/news/2022/4/4/462037/              17   \n",
       "\n",
       "   ref_Unnamed: 0.1                               ref_uid  ...     ref_time  \\\n",
       "0                16  02b5cecd-fac3-4b89-80a2-5bc7d3356d51  ...  4 hours ago   \n",
       "1                17  8ea2c08f-d9ff-4aa8-b710-9b6f26c7bb39  ...  4 hours ago   \n",
       "2                17  8ea2c08f-d9ff-4aa8-b710-9b6f26c7bb39  ...  4 hours ago   \n",
       "3                17  8ea2c08f-d9ff-4aa8-b710-9b6f26c7bb39  ...  4 hours ago   \n",
       "4                17  8ea2c08f-d9ff-4aa8-b710-9b6f26c7bb39  ...  4 hours ago   \n",
       "\n",
       "                                          ref_source  \\\n",
       "0  https://twitter.com/idreesali114/status/151098...   \n",
       "1  https://twitter.com/prm_ua/status/151097769528...   \n",
       "2  https://twitter.com/prm_ua/status/151097769528...   \n",
       "3  https://twitter.com/prm_ua/status/151097769528...   \n",
       "4  https://twitter.com/prm_ua/status/151097769528...   \n",
       "\n",
       "             ref_time-capture ref_sc  \\\n",
       "0  2022-04-04 13:47:10.051481  False   \n",
       "1  2022-04-04 13:47:14.411519  False   \n",
       "2  2022-04-04 13:47:14.411519  False   \n",
       "3  2022-04-04 13:47:14.411519  False   \n",
       "4  2022-04-04 13:47:14.411519  False   \n",
       "\n",
       "                                          ref_domain  \\\n",
       "0  data:image/svg+xml;base64,PHN2ZyB2ZXJzaW9uPSIx...   \n",
       "1  data:image/svg+xml;base64,PHN2ZyB2ZXJzaW9uPSIx...   \n",
       "2  data:image/svg+xml;base64,PHN2ZyB2ZXJzaW9uPSIx...   \n",
       "3  data:image/svg+xml;base64,PHN2ZyB2ZXJzaW9uPSIx...   \n",
       "4  data:image/svg+xml;base64,PHN2ZyB2ZXJzaW9uPSIx...   \n",
       "\n",
       "                                       ref_full-text ref_sc2          ref_geo  \\\n",
       "0  SourceOn live map\\nTell friends\\n4 hours ago -...   False  54°41′N 25°16′E   \n",
       "1  SourceOn live map\\nTell friends\\n4 hours ago -...   False  50°38′N 29°55′E   \n",
       "2  SourceOn live map\\nTell friends\\n4 hours ago -...   False  50°38′N 29°55′E   \n",
       "3  SourceOn live map\\nTell friends\\n4 hours ago -...   False  50°38′N 29°55′E   \n",
       "4  SourceOn live map\\nTell friends\\n4 hours ago -...   False  50°38′N 29°55′E   \n",
       "\n",
       "       ref_time_parsed     art_extracted_domain  \n",
       "0  2022-04-04 09:50:58  www.businessinsider.com  \n",
       "1  2022-04-04 09:50:58      www.theguardian.com  \n",
       "2  2022-04-04 09:50:58          news84media.com  \n",
       "3  2022-04-04 09:50:58          eaworldview.com  \n",
       "4  2022-04-04 09:50:58            charter97.org  \n",
       "\n",
       "[5 rows x 21 columns]"
      ]
     },
     "execution_count": 2,
     "metadata": {},
     "output_type": "execute_result"
    }
   ],
   "source": [
    "#  input file\n",
    "\n",
    "df = pd.read_csv('../data/processed/author-parse-articles.csv')\n",
    "\n",
    "# Getting Domains From News Websites \n",
    "m = df['art_article_url'].str.extract('(?<=http://)(.*?)(?=/)|(?<=https://)(.*?)(?=/)')\n",
    "m = m[0].fillna(m[1]).fillna(df['art_article_url'])\n",
    "df['art_extracted_domain'] = m\n",
    "df.head()"
   ]
  },
  {
   "cell_type": "code",
   "execution_count": 3,
   "metadata": {},
   "outputs": [],
   "source": [
    "article = df.loc[df['art_extracted_domain']=='www.compuserve.com']"
   ]
  },
  {
   "cell_type": "code",
   "execution_count": 4,
   "metadata": {},
   "outputs": [
    {
     "data": {
      "text/plain": [
       "(1, 21)"
      ]
     },
     "execution_count": 4,
     "metadata": {},
     "output_type": "execute_result"
    }
   ],
   "source": [
    "article.shape"
   ]
  },
  {
   "cell_type": "code",
   "execution_count": 5,
   "metadata": {},
   "outputs": [
    {
     "data": {
      "text/html": [
       "<div>\n",
       "<style scoped>\n",
       "    .dataframe tbody tr th:only-of-type {\n",
       "        vertical-align: middle;\n",
       "    }\n",
       "\n",
       "    .dataframe tbody tr th {\n",
       "        vertical-align: top;\n",
       "    }\n",
       "\n",
       "    .dataframe thead th {\n",
       "        text-align: right;\n",
       "    }\n",
       "</style>\n",
       "<table border=\"1\" class=\"dataframe\">\n",
       "  <thead>\n",
       "    <tr style=\"text-align: right;\">\n",
       "      <th></th>\n",
       "      <th>Unnamed: 0</th>\n",
       "      <th>art_Unnamed: 0</th>\n",
       "      <th>art_uid</th>\n",
       "      <th>art_article_author</th>\n",
       "      <th>art_article_date</th>\n",
       "      <th>art_article_text</th>\n",
       "      <th>art_article_url</th>\n",
       "      <th>ref_Unnamed: 0</th>\n",
       "      <th>ref_Unnamed: 0.1</th>\n",
       "      <th>ref_uid</th>\n",
       "      <th>...</th>\n",
       "      <th>ref_time</th>\n",
       "      <th>ref_source</th>\n",
       "      <th>ref_time-capture</th>\n",
       "      <th>ref_sc</th>\n",
       "      <th>ref_domain</th>\n",
       "      <th>ref_full-text</th>\n",
       "      <th>ref_sc2</th>\n",
       "      <th>ref_geo</th>\n",
       "      <th>ref_time_parsed</th>\n",
       "      <th>art_extracted_domain</th>\n",
       "    </tr>\n",
       "  </thead>\n",
       "  <tbody>\n",
       "    <tr>\n",
       "      <th>6342</th>\n",
       "      <td>6342</td>\n",
       "      <td>8</td>\n",
       "      <td>436ee9aa-945f-4ed3-9566-a0b8f0f018d8</td>\n",
       "      <td>['The Associated Press']</td>\n",
       "      <td>2022-04-06</td>\n",
       "      <td>Live Updates | Russia-Ukraine War\\n\\nWASHINGTO...</td>\n",
       "      <td>https://www.compuserve.com/pf/story/0001/20220...</td>\n",
       "      <td>14</td>\n",
       "      <td>14</td>\n",
       "      <td>436ee9aa-945f-4ed3-9566-a0b8f0f018d8</td>\n",
       "      <td>...</td>\n",
       "      <td>4 hours ago</td>\n",
       "      <td>https://twitter.com/shashj/status/151098248417...</td>\n",
       "      <td>2022-04-04 13:46:59.387389</td>\n",
       "      <td>False</td>\n",
       "      <td>data:image/svg+xml;base64,PHN2ZyB2ZXJzaW9uPSIx...</td>\n",
       "      <td>SourceOn live map\\nTell friends\\n4 hours ago -...</td>\n",
       "      <td>False</td>\n",
       "      <td>59°54′N 10°44′E</td>\n",
       "      <td>2022-04-04 09:50:58</td>\n",
       "      <td>www.compuserve.com</td>\n",
       "    </tr>\n",
       "  </tbody>\n",
       "</table>\n",
       "<p>1 rows × 21 columns</p>\n",
       "</div>"
      ],
      "text/plain": [
       "      Unnamed: 0  art_Unnamed: 0                               art_uid  \\\n",
       "6342        6342               8  436ee9aa-945f-4ed3-9566-a0b8f0f018d8   \n",
       "\n",
       "            art_article_author art_article_date  \\\n",
       "6342  ['The Associated Press']       2022-04-06   \n",
       "\n",
       "                                       art_article_text  \\\n",
       "6342  Live Updates | Russia-Ukraine War\\n\\nWASHINGTO...   \n",
       "\n",
       "                                        art_article_url  ref_Unnamed: 0  \\\n",
       "6342  https://www.compuserve.com/pf/story/0001/20220...              14   \n",
       "\n",
       "      ref_Unnamed: 0.1                               ref_uid  ...  \\\n",
       "6342                14  436ee9aa-945f-4ed3-9566-a0b8f0f018d8  ...   \n",
       "\n",
       "         ref_time                                         ref_source  \\\n",
       "6342  4 hours ago  https://twitter.com/shashj/status/151098248417...   \n",
       "\n",
       "                ref_time-capture ref_sc  \\\n",
       "6342  2022-04-04 13:46:59.387389  False   \n",
       "\n",
       "                                             ref_domain  \\\n",
       "6342  data:image/svg+xml;base64,PHN2ZyB2ZXJzaW9uPSIx...   \n",
       "\n",
       "                                          ref_full-text ref_sc2  \\\n",
       "6342  SourceOn live map\\nTell friends\\n4 hours ago -...   False   \n",
       "\n",
       "              ref_geo      ref_time_parsed art_extracted_domain  \n",
       "6342  59°54′N 10°44′E  2022-04-04 09:50:58   www.compuserve.com  \n",
       "\n",
       "[1 rows x 21 columns]"
      ]
     },
     "execution_count": 5,
     "metadata": {},
     "output_type": "execute_result"
    }
   ],
   "source": [
    "article"
   ]
  },
  {
   "cell_type": "markdown",
   "metadata": {},
   "source": [
    "# Cleaning part"
   ]
  },
  {
   "cell_type": "code",
   "execution_count": 7,
   "metadata": {},
   "outputs": [],
   "source": [
    "nlp = spacy.load('en_core_web_sm', disable=['ner', 'parser']) \n",
    "# disabling Named Entity Recognition for speed\n",
    "\n",
    "def cleaning(doc):\n",
    "    # Lemmatizes and removes stopwords\n",
    "    # doc needs to be a spacy Doc object\n",
    "    txt = [token.lemma_ for token in doc if not token.is_stop]\n",
    "    # Word2Vec uses context words to learn the vector representation of a target word,\n",
    "    # if a sentence is only one or two words long,\n",
    "    # the benefit for the training is very small\n",
    "    if len(txt) > 2:\n",
    "        return ' '.join(txt)"
   ]
  },
  {
   "cell_type": "code",
   "execution_count": 8,
   "metadata": {},
   "outputs": [],
   "source": [
    "# remove non-alphabetic characters\n",
    "brief_cleaning = (re.sub(\"[^A-Za-z']+\", ' ', str(row)).lower() for row in article['art_article_text'])"
   ]
  },
  {
   "cell_type": "code",
   "execution_count": 12,
   "metadata": {},
   "outputs": [
    {
     "name": "stdout",
     "output_type": "stream",
     "text": [
      "Time to clean up everything: 0.01 mins\n"
     ]
    }
   ],
   "source": [
    "# Taking advantage of spaCy .pipe() \n",
    "# attribute to speed-up the cleaning process:\n",
    "t = time()\n",
    "\n",
    "txt = [cleaning(doc) for doc in nlp.pipe(brief_cleaning, batch_size=5000)]\n",
    "\n",
    "print('Time to clean up everything: {} mins'.format(round((time() - t) / 60, 2)))"
   ]
  },
  {
   "cell_type": "code",
   "execution_count": 48,
   "metadata": {},
   "outputs": [
    {
     "data": {
      "text/plain": [
       "(1, 1)"
      ]
     },
     "execution_count": 48,
     "metadata": {},
     "output_type": "execute_result"
    }
   ],
   "source": [
    "#Put the results in a DataFrame \n",
    "#to remove missing values and duplicates:\n",
    "\n",
    "df_clean = pd.DataFrame({'clean': txt})\n",
    "df_clean = df_clean.dropna().drop_duplicates()\n",
    "df_clean.shape"
   ]
  },
  {
   "cell_type": "code",
   "execution_count": 49,
   "metadata": {},
   "outputs": [],
   "source": [
    "sent = [row.split() for row in df_clean['clean']]"
   ]
  },
  {
   "cell_type": "code",
   "execution_count": 50,
   "metadata": {},
   "outputs": [
    {
     "name": "stderr",
     "output_type": "stream",
     "text": [
      "INFO - 21:15:41: collecting all words and their counts\n",
      "INFO - 21:15:41: PROGRESS: at sentence #0, processed 0 words and 0 word types\n",
      "INFO - 21:15:41: collected 2800 token types (unigram + bigrams) from a corpus of 2145 words and 1 sentences\n",
      "INFO - 21:15:41: merged Phrases<2800 vocab, min_count=30, threshold=10.0, max_vocab_size=40000000>\n",
      "INFO - 21:15:41: Phrases lifecycle event {'msg': 'built Phrases<2800 vocab, min_count=30, threshold=10.0, max_vocab_size=40000000> in 0.02s', 'datetime': '2022-04-26T21:15:41.071598', 'gensim': '4.1.2', 'python': '3.7.11 (default, Jul 27 2021, 07:03:16) \\n[Clang 10.0.0 ]', 'platform': 'Darwin-21.4.0-x86_64-i386-64bit', 'event': 'created'}\n"
     ]
    }
   ],
   "source": [
    "phrases = Phrases(sent, min_count=30, progress_per=10000)"
   ]
  },
  {
   "cell_type": "code",
   "execution_count": 51,
   "metadata": {},
   "outputs": [
    {
     "name": "stderr",
     "output_type": "stream",
     "text": [
      "INFO - 21:15:43: collecting all words and their counts\n",
      "INFO - 21:15:43: PROGRESS: at sentence #0, processed 0 words and 0 word types\n",
      "INFO - 21:15:43: collected 2800 token types (unigram + bigrams) from a corpus of 2145 words and 1 sentences\n",
      "INFO - 21:15:43: merged Phrases<2800 vocab, min_count=2, threshold=100, max_vocab_size=40000000>\n",
      "INFO - 21:15:43: Phrases lifecycle event {'msg': 'built Phrases<2800 vocab, min_count=2, threshold=100, max_vocab_size=40000000> in 0.01s', 'datetime': '2022-04-26T21:15:43.921893', 'gensim': '4.1.2', 'python': '3.7.11 (default, Jul 27 2021, 07:03:16) \\n[Clang 10.0.0 ]', 'platform': 'Darwin-21.4.0-x86_64-i386-64bit', 'event': 'created'}\n"
     ]
    }
   ],
   "source": [
    "bigram = gensim.models.Phrases(sent, min_count=2, threshold=100)\n",
    "sentences = bigram[sent]"
   ]
  },
  {
   "cell_type": "code",
   "execution_count": 52,
   "metadata": {},
   "outputs": [
    {
     "data": {
      "text/plain": [
       "<gensim.models.phrases.Phrases at 0x7fcef5347190>"
      ]
     },
     "execution_count": 52,
     "metadata": {},
     "output_type": "execute_result"
    }
   ],
   "source": [
    "bigram"
   ]
  },
  {
   "cell_type": "code",
   "execution_count": 53,
   "metadata": {},
   "outputs": [
    {
     "data": {
      "text/plain": [
       "917"
      ]
     },
     "execution_count": 53,
     "metadata": {},
     "output_type": "execute_result"
    }
   ],
   "source": [
    "word_freq = defaultdict(int)\n",
    "for sent in sentences:\n",
    "    for i in sent:\n",
    "        word_freq[i] += 1\n",
    "len(word_freq)"
   ]
  },
  {
   "cell_type": "code",
   "execution_count": 56,
   "metadata": {},
   "outputs": [
    {
     "data": {
      "text/plain": [
       "['s',\n",
       " 'russian',\n",
       " 'say',\n",
       " 'ukraine',\n",
       " 'russia',\n",
       " 'war',\n",
       " 'u',\n",
       " 'wednesday',\n",
       " 'president',\n",
       " 'crime']"
      ]
     },
     "execution_count": 56,
     "metadata": {},
     "output_type": "execute_result"
    }
   ],
   "source": [
    "sorted(word_freq, key=word_freq.get, reverse=True)[:10]"
   ]
  },
  {
   "cell_type": "code",
   "execution_count": 27,
   "metadata": {},
   "outputs": [
    {
     "name": "stderr",
     "output_type": "stream",
     "text": [
      "INFO - 21:07:10: Word2Vec lifecycle event {'params': 'Word2Vec(vocab=0, vector_size=300, alpha=0.03)', 'datetime': '2022-04-26T21:07:10.414819', 'gensim': '4.1.2', 'python': '3.7.11 (default, Jul 27 2021, 07:03:16) \\n[Clang 10.0.0 ]', 'platform': 'Darwin-21.4.0-x86_64-i386-64bit', 'event': 'created'}\n"
     ]
    }
   ],
   "source": [
    "cores = multiprocessing.cpu_count() \n",
    "w2v_model = Word2Vec(min_count=20,\n",
    "                     window=2,\n",
    "                     vector_size=300,\n",
    "                     sample=6e-5, \n",
    "                     alpha=0.03, \n",
    "                     min_alpha=0.0007, \n",
    "                     negative=20,\n",
    "                     workers=cores-1)"
   ]
  },
  {
   "cell_type": "markdown",
   "metadata": {},
   "source": [
    "# Building the Vocabulary Table:\n",
    "Word2Vec requires us to build the vocabulary table (simply digesting all the words and filtering out the unique words, and doing some basic counts on them):"
   ]
  },
  {
   "cell_type": "code",
   "execution_count": 28,
   "metadata": {},
   "outputs": [
    {
     "name": "stderr",
     "output_type": "stream",
     "text": [
      "INFO - 21:07:23: collecting all words and their counts\n",
      "INFO - 21:07:23: PROGRESS: at sentence #0, processed 0 words, keeping 0 word types\n",
      "INFO - 21:07:23: collected 917 word types from a corpus of 2107 raw words and 1 sentences\n",
      "INFO - 21:07:23: Creating a fresh vocabulary\n",
      "INFO - 21:07:23: Word2Vec lifecycle event {'msg': 'effective_min_count=20 retains 9 unique words (0.9814612868047983%% of original 917, drops 908)', 'datetime': '2022-04-26T21:07:23.574206', 'gensim': '4.1.2', 'python': '3.7.11 (default, Jul 27 2021, 07:03:16) \\n[Clang 10.0.0 ]', 'platform': 'Darwin-21.4.0-x86_64-i386-64bit', 'event': 'prepare_vocab'}\n",
      "INFO - 21:07:23: Word2Vec lifecycle event {'msg': 'effective_min_count=20 leaves 365 word corpus (17.323208353108686%% of original 2107, drops 1742)', 'datetime': '2022-04-26T21:07:23.574905', 'gensim': '4.1.2', 'python': '3.7.11 (default, Jul 27 2021, 07:03:16) \\n[Clang 10.0.0 ]', 'platform': 'Darwin-21.4.0-x86_64-i386-64bit', 'event': 'prepare_vocab'}\n",
      "INFO - 21:07:23: deleting the raw counts dictionary of 917 items\n",
      "INFO - 21:07:23: sample=6e-05 downsamples 9 most-common words\n",
      "INFO - 21:07:23: Word2Vec lifecycle event {'msg': 'downsampling leaves estimated 8.529947661623133 word corpus (2.3%% of prior 365)', 'datetime': '2022-04-26T21:07:23.577559', 'gensim': '4.1.2', 'python': '3.7.11 (default, Jul 27 2021, 07:03:16) \\n[Clang 10.0.0 ]', 'platform': 'Darwin-21.4.0-x86_64-i386-64bit', 'event': 'prepare_vocab'}\n",
      "INFO - 21:07:23: estimated required memory for 9 words and 300 dimensions: 26100 bytes\n",
      "INFO - 21:07:23: resetting layer weights\n",
      "INFO - 21:07:23: Word2Vec lifecycle event {'update': False, 'trim_rule': 'None', 'datetime': '2022-04-26T21:07:23.581672', 'gensim': '4.1.2', 'python': '3.7.11 (default, Jul 27 2021, 07:03:16) \\n[Clang 10.0.0 ]', 'platform': 'Darwin-21.4.0-x86_64-i386-64bit', 'event': 'build_vocab'}\n"
     ]
    },
    {
     "name": "stdout",
     "output_type": "stream",
     "text": [
      "Time to build vocab: 0.0 mins\n"
     ]
    }
   ],
   "source": [
    "t = time()\n",
    "\n",
    "w2v_model.build_vocab(sentences, progress_per=10000)\n",
    "\n",
    "print('Time to build vocab: {} mins'.format(round((time() - t) / 60, 2)))"
   ]
  },
  {
   "cell_type": "markdown",
   "metadata": {},
   "source": [
    "# Training of the model:\n",
    "Parameters of the training:\n",
    "\n",
    "1. total_examples = int - Count of sentences;\n",
    "\n",
    "2. epochs = int - Number of iterations (epochs) over the corpus - [10, 20, 30]"
   ]
  },
  {
   "cell_type": "code",
   "execution_count": 29,
   "metadata": {},
   "outputs": [
    {
     "name": "stderr",
     "output_type": "stream",
     "text": [
      "INFO - 21:07:33: Word2Vec lifecycle event {'msg': 'training model with 7 workers on 9 vocabulary and 300 features, using sg=0 hs=0 sample=6e-05 negative=20 window=2 shrink_windows=True', 'datetime': '2022-04-26T21:07:33.270169', 'gensim': '4.1.2', 'python': '3.7.11 (default, Jul 27 2021, 07:03:16) \\n[Clang 10.0.0 ]', 'platform': 'Darwin-21.4.0-x86_64-i386-64bit', 'event': 'train'}\n",
      "INFO - 21:07:33: worker thread finished; awaiting finish of 6 more threads\n",
      "INFO - 21:07:33: worker thread finished; awaiting finish of 5 more threads\n",
      "INFO - 21:07:33: worker thread finished; awaiting finish of 4 more threads\n",
      "INFO - 21:07:33: worker thread finished; awaiting finish of 3 more threads\n",
      "INFO - 21:07:33: worker thread finished; awaiting finish of 2 more threads\n",
      "INFO - 21:07:33: worker thread finished; awaiting finish of 1 more threads\n",
      "INFO - 21:07:33: worker thread finished; awaiting finish of 0 more threads\n",
      "INFO - 21:07:33: EPOCH - 1 : training on 2107 raw words (8 effective words) took 0.0s, 1209 effective words/s\n",
      "INFO - 21:07:33: worker thread finished; awaiting finish of 6 more threads\n",
      "INFO - 21:07:33: worker thread finished; awaiting finish of 5 more threads\n",
      "INFO - 21:07:33: worker thread finished; awaiting finish of 4 more threads\n",
      "INFO - 21:07:33: worker thread finished; awaiting finish of 3 more threads\n",
      "INFO - 21:07:33: worker thread finished; awaiting finish of 2 more threads\n",
      "INFO - 21:07:33: worker thread finished; awaiting finish of 1 more threads\n",
      "INFO - 21:07:33: worker thread finished; awaiting finish of 0 more threads\n",
      "INFO - 21:07:33: EPOCH - 2 : training on 2107 raw words (6 effective words) took 0.0s, 1552 effective words/s\n",
      "INFO - 21:07:33: worker thread finished; awaiting finish of 6 more threads\n",
      "INFO - 21:07:33: worker thread finished; awaiting finish of 5 more threads\n",
      "INFO - 21:07:33: worker thread finished; awaiting finish of 4 more threads\n",
      "INFO - 21:07:33: worker thread finished; awaiting finish of 3 more threads\n",
      "INFO - 21:07:33: worker thread finished; awaiting finish of 2 more threads\n",
      "INFO - 21:07:33: worker thread finished; awaiting finish of 1 more threads\n",
      "INFO - 21:07:33: worker thread finished; awaiting finish of 0 more threads\n",
      "INFO - 21:07:33: EPOCH - 3 : training on 2107 raw words (8 effective words) took 0.0s, 2938 effective words/s\n",
      "INFO - 21:07:33: worker thread finished; awaiting finish of 6 more threads\n",
      "INFO - 21:07:33: worker thread finished; awaiting finish of 5 more threads\n",
      "INFO - 21:07:33: worker thread finished; awaiting finish of 4 more threads\n",
      "INFO - 21:07:33: worker thread finished; awaiting finish of 3 more threads\n",
      "INFO - 21:07:33: worker thread finished; awaiting finish of 2 more threads\n",
      "INFO - 21:07:33: worker thread finished; awaiting finish of 1 more threads\n",
      "INFO - 21:07:33: worker thread finished; awaiting finish of 0 more threads\n",
      "INFO - 21:07:33: EPOCH - 4 : training on 2107 raw words (8 effective words) took 0.0s, 3252 effective words/s\n",
      "INFO - 21:07:33: worker thread finished; awaiting finish of 6 more threads\n",
      "INFO - 21:07:33: worker thread finished; awaiting finish of 5 more threads\n",
      "INFO - 21:07:33: worker thread finished; awaiting finish of 4 more threads\n",
      "INFO - 21:07:33: worker thread finished; awaiting finish of 3 more threads\n",
      "INFO - 21:07:33: worker thread finished; awaiting finish of 2 more threads\n",
      "INFO - 21:07:33: worker thread finished; awaiting finish of 1 more threads\n",
      "INFO - 21:07:33: worker thread finished; awaiting finish of 0 more threads\n",
      "INFO - 21:07:33: EPOCH - 5 : training on 2107 raw words (10 effective words) took 0.0s, 3012 effective words/s\n",
      "INFO - 21:07:33: worker thread finished; awaiting finish of 6 more threads\n",
      "INFO - 21:07:33: worker thread finished; awaiting finish of 5 more threads\n",
      "INFO - 21:07:33: worker thread finished; awaiting finish of 4 more threads\n",
      "INFO - 21:07:33: worker thread finished; awaiting finish of 3 more threads\n",
      "INFO - 21:07:33: worker thread finished; awaiting finish of 2 more threads\n",
      "INFO - 21:07:33: worker thread finished; awaiting finish of 1 more threads\n",
      "INFO - 21:07:33: worker thread finished; awaiting finish of 0 more threads\n",
      "INFO - 21:07:33: EPOCH - 6 : training on 2107 raw words (9 effective words) took 0.0s, 3829 effective words/s\n",
      "INFO - 21:07:33: worker thread finished; awaiting finish of 6 more threads\n",
      "INFO - 21:07:33: worker thread finished; awaiting finish of 5 more threads\n",
      "INFO - 21:07:33: worker thread finished; awaiting finish of 4 more threads\n",
      "INFO - 21:07:33: worker thread finished; awaiting finish of 3 more threads\n",
      "INFO - 21:07:33: worker thread finished; awaiting finish of 2 more threads\n",
      "INFO - 21:07:33: worker thread finished; awaiting finish of 1 more threads\n",
      "INFO - 21:07:33: worker thread finished; awaiting finish of 0 more threads\n",
      "INFO - 21:07:33: EPOCH - 7 : training on 2107 raw words (8 effective words) took 0.0s, 3705 effective words/s\n",
      "INFO - 21:07:33: worker thread finished; awaiting finish of 6 more threads\n",
      "INFO - 21:07:33: worker thread finished; awaiting finish of 5 more threads\n",
      "INFO - 21:07:33: worker thread finished; awaiting finish of 4 more threads\n",
      "INFO - 21:07:33: worker thread finished; awaiting finish of 3 more threads\n",
      "INFO - 21:07:33: worker thread finished; awaiting finish of 2 more threads\n",
      "INFO - 21:07:33: worker thread finished; awaiting finish of 1 more threads\n",
      "INFO - 21:07:33: worker thread finished; awaiting finish of 0 more threads\n",
      "INFO - 21:07:33: EPOCH - 8 : training on 2107 raw words (6 effective words) took 0.0s, 2898 effective words/s\n",
      "INFO - 21:07:33: worker thread finished; awaiting finish of 6 more threads\n",
      "INFO - 21:07:33: worker thread finished; awaiting finish of 5 more threads\n",
      "INFO - 21:07:33: worker thread finished; awaiting finish of 4 more threads\n",
      "INFO - 21:07:33: worker thread finished; awaiting finish of 3 more threads\n",
      "INFO - 21:07:33: worker thread finished; awaiting finish of 2 more threads\n",
      "INFO - 21:07:33: worker thread finished; awaiting finish of 1 more threads\n",
      "INFO - 21:07:33: worker thread finished; awaiting finish of 0 more threads\n",
      "INFO - 21:07:33: EPOCH - 9 : training on 2107 raw words (7 effective words) took 0.0s, 1932 effective words/s\n",
      "INFO - 21:07:33: worker thread finished; awaiting finish of 6 more threads\n",
      "INFO - 21:07:33: worker thread finished; awaiting finish of 5 more threads\n",
      "INFO - 21:07:33: worker thread finished; awaiting finish of 4 more threads\n",
      "INFO - 21:07:33: worker thread finished; awaiting finish of 3 more threads\n",
      "INFO - 21:07:33: worker thread finished; awaiting finish of 2 more threads\n",
      "INFO - 21:07:33: worker thread finished; awaiting finish of 1 more threads\n",
      "INFO - 21:07:33: worker thread finished; awaiting finish of 0 more threads\n",
      "INFO - 21:07:33: EPOCH - 10 : training on 2107 raw words (7 effective words) took 0.0s, 2632 effective words/s\n",
      "INFO - 21:07:33: worker thread finished; awaiting finish of 6 more threads\n",
      "INFO - 21:07:33: worker thread finished; awaiting finish of 5 more threads\n",
      "INFO - 21:07:33: worker thread finished; awaiting finish of 4 more threads\n",
      "INFO - 21:07:33: worker thread finished; awaiting finish of 3 more threads\n",
      "INFO - 21:07:33: worker thread finished; awaiting finish of 2 more threads\n",
      "INFO - 21:07:33: worker thread finished; awaiting finish of 1 more threads\n",
      "INFO - 21:07:33: worker thread finished; awaiting finish of 0 more threads\n",
      "INFO - 21:07:33: EPOCH - 11 : training on 2107 raw words (5 effective words) took 0.0s, 1494 effective words/s\n",
      "INFO - 21:07:33: worker thread finished; awaiting finish of 6 more threads\n",
      "INFO - 21:07:33: worker thread finished; awaiting finish of 5 more threads\n",
      "INFO - 21:07:33: worker thread finished; awaiting finish of 4 more threads\n",
      "INFO - 21:07:33: worker thread finished; awaiting finish of 3 more threads\n",
      "INFO - 21:07:33: worker thread finished; awaiting finish of 2 more threads\n",
      "INFO - 21:07:33: worker thread finished; awaiting finish of 1 more threads\n",
      "INFO - 21:07:33: worker thread finished; awaiting finish of 0 more threads\n",
      "INFO - 21:07:33: EPOCH - 12 : training on 2107 raw words (6 effective words) took 0.0s, 2273 effective words/s\n",
      "INFO - 21:07:33: worker thread finished; awaiting finish of 6 more threads\n",
      "INFO - 21:07:33: worker thread finished; awaiting finish of 5 more threads\n",
      "INFO - 21:07:33: worker thread finished; awaiting finish of 4 more threads\n"
     ]
    },
    {
     "name": "stderr",
     "output_type": "stream",
     "text": [
      "INFO - 21:07:33: worker thread finished; awaiting finish of 3 more threads\n",
      "INFO - 21:07:33: worker thread finished; awaiting finish of 2 more threads\n",
      "INFO - 21:07:33: worker thread finished; awaiting finish of 1 more threads\n",
      "INFO - 21:07:33: worker thread finished; awaiting finish of 0 more threads\n",
      "INFO - 21:07:33: EPOCH - 13 : training on 2107 raw words (5 effective words) took 0.0s, 1242 effective words/s\n",
      "INFO - 21:07:33: worker thread finished; awaiting finish of 6 more threads\n",
      "INFO - 21:07:33: worker thread finished; awaiting finish of 5 more threads\n",
      "INFO - 21:07:33: worker thread finished; awaiting finish of 4 more threads\n",
      "INFO - 21:07:33: worker thread finished; awaiting finish of 3 more threads\n",
      "INFO - 21:07:33: worker thread finished; awaiting finish of 2 more threads\n",
      "INFO - 21:07:33: worker thread finished; awaiting finish of 1 more threads\n",
      "INFO - 21:07:33: worker thread finished; awaiting finish of 0 more threads\n",
      "INFO - 21:07:33: EPOCH - 14 : training on 2107 raw words (6 effective words) took 0.0s, 2064 effective words/s\n",
      "INFO - 21:07:33: worker thread finished; awaiting finish of 6 more threads\n",
      "INFO - 21:07:33: worker thread finished; awaiting finish of 5 more threads\n",
      "INFO - 21:07:33: worker thread finished; awaiting finish of 4 more threads\n",
      "INFO - 21:07:33: worker thread finished; awaiting finish of 3 more threads\n",
      "INFO - 21:07:33: worker thread finished; awaiting finish of 2 more threads\n",
      "INFO - 21:07:33: worker thread finished; awaiting finish of 1 more threads\n",
      "INFO - 21:07:33: worker thread finished; awaiting finish of 0 more threads\n",
      "INFO - 21:07:33: EPOCH - 15 : training on 2107 raw words (12 effective words) took 0.0s, 3883 effective words/s\n",
      "INFO - 21:07:33: worker thread finished; awaiting finish of 6 more threads\n",
      "INFO - 21:07:33: worker thread finished; awaiting finish of 5 more threads\n",
      "INFO - 21:07:33: worker thread finished; awaiting finish of 4 more threads\n",
      "INFO - 21:07:33: worker thread finished; awaiting finish of 3 more threads\n",
      "INFO - 21:07:33: worker thread finished; awaiting finish of 2 more threads\n",
      "INFO - 21:07:33: worker thread finished; awaiting finish of 1 more threads\n",
      "INFO - 21:07:33: worker thread finished; awaiting finish of 0 more threads\n",
      "INFO - 21:07:33: EPOCH - 16 : training on 2107 raw words (7 effective words) took 0.0s, 2757 effective words/s\n",
      "INFO - 21:07:33: worker thread finished; awaiting finish of 6 more threads\n",
      "INFO - 21:07:33: worker thread finished; awaiting finish of 5 more threads\n",
      "INFO - 21:07:33: worker thread finished; awaiting finish of 4 more threads\n",
      "INFO - 21:07:33: worker thread finished; awaiting finish of 3 more threads\n",
      "INFO - 21:07:33: worker thread finished; awaiting finish of 2 more threads\n",
      "INFO - 21:07:33: worker thread finished; awaiting finish of 1 more threads\n",
      "INFO - 21:07:33: worker thread finished; awaiting finish of 0 more threads\n",
      "INFO - 21:07:33: EPOCH - 17 : training on 2107 raw words (11 effective words) took 0.0s, 4049 effective words/s\n",
      "INFO - 21:07:33: worker thread finished; awaiting finish of 6 more threads\n",
      "INFO - 21:07:33: worker thread finished; awaiting finish of 5 more threads\n",
      "INFO - 21:07:33: worker thread finished; awaiting finish of 4 more threads\n",
      "INFO - 21:07:33: worker thread finished; awaiting finish of 3 more threads\n",
      "INFO - 21:07:33: worker thread finished; awaiting finish of 2 more threads\n",
      "INFO - 21:07:33: worker thread finished; awaiting finish of 1 more threads\n",
      "INFO - 21:07:33: worker thread finished; awaiting finish of 0 more threads\n",
      "INFO - 21:07:33: EPOCH - 18 : training on 2107 raw words (12 effective words) took 0.0s, 3809 effective words/s\n",
      "INFO - 21:07:33: worker thread finished; awaiting finish of 6 more threads\n",
      "INFO - 21:07:33: worker thread finished; awaiting finish of 5 more threads\n",
      "INFO - 21:07:33: worker thread finished; awaiting finish of 4 more threads\n",
      "INFO - 21:07:33: worker thread finished; awaiting finish of 3 more threads\n",
      "INFO - 21:07:33: worker thread finished; awaiting finish of 2 more threads\n",
      "INFO - 21:07:33: worker thread finished; awaiting finish of 1 more threads\n",
      "INFO - 21:07:33: worker thread finished; awaiting finish of 0 more threads\n",
      "INFO - 21:07:33: EPOCH - 19 : training on 2107 raw words (5 effective words) took 0.0s, 2188 effective words/s\n",
      "INFO - 21:07:33: worker thread finished; awaiting finish of 6 more threads\n",
      "INFO - 21:07:33: worker thread finished; awaiting finish of 5 more threads\n",
      "INFO - 21:07:33: worker thread finished; awaiting finish of 4 more threads\n",
      "INFO - 21:07:33: worker thread finished; awaiting finish of 3 more threads\n",
      "INFO - 21:07:33: worker thread finished; awaiting finish of 2 more threads\n",
      "INFO - 21:07:33: worker thread finished; awaiting finish of 1 more threads\n",
      "INFO - 21:07:33: worker thread finished; awaiting finish of 0 more threads\n",
      "INFO - 21:07:33: EPOCH - 20 : training on 2107 raw words (4 effective words) took 0.0s, 1583 effective words/s\n",
      "INFO - 21:07:33: worker thread finished; awaiting finish of 6 more threads\n",
      "INFO - 21:07:33: worker thread finished; awaiting finish of 5 more threads\n",
      "INFO - 21:07:33: worker thread finished; awaiting finish of 4 more threads\n",
      "INFO - 21:07:33: worker thread finished; awaiting finish of 3 more threads\n",
      "INFO - 21:07:33: worker thread finished; awaiting finish of 2 more threads\n",
      "INFO - 21:07:33: worker thread finished; awaiting finish of 1 more threads\n",
      "INFO - 21:07:33: worker thread finished; awaiting finish of 0 more threads\n",
      "INFO - 21:07:33: EPOCH - 21 : training on 2107 raw words (10 effective words) took 0.0s, 3679 effective words/s\n",
      "INFO - 21:07:33: worker thread finished; awaiting finish of 6 more threads\n",
      "INFO - 21:07:33: worker thread finished; awaiting finish of 5 more threads\n",
      "INFO - 21:07:33: worker thread finished; awaiting finish of 4 more threads\n",
      "INFO - 21:07:33: worker thread finished; awaiting finish of 3 more threads\n",
      "INFO - 21:07:33: worker thread finished; awaiting finish of 2 more threads\n",
      "INFO - 21:07:33: worker thread finished; awaiting finish of 1 more threads\n",
      "INFO - 21:07:33: worker thread finished; awaiting finish of 0 more threads\n",
      "INFO - 21:07:33: EPOCH - 22 : training on 2107 raw words (10 effective words) took 0.0s, 3808 effective words/s\n",
      "INFO - 21:07:33: worker thread finished; awaiting finish of 6 more threads\n",
      "INFO - 21:07:33: worker thread finished; awaiting finish of 5 more threads\n",
      "INFO - 21:07:33: worker thread finished; awaiting finish of 4 more threads\n",
      "INFO - 21:07:33: worker thread finished; awaiting finish of 3 more threads\n",
      "INFO - 21:07:33: worker thread finished; awaiting finish of 2 more threads\n",
      "INFO - 21:07:33: worker thread finished; awaiting finish of 1 more threads\n",
      "INFO - 21:07:33: worker thread finished; awaiting finish of 0 more threads\n",
      "INFO - 21:07:33: EPOCH - 23 : training on 2107 raw words (11 effective words) took 0.0s, 4207 effective words/s\n",
      "INFO - 21:07:33: worker thread finished; awaiting finish of 6 more threads\n",
      "INFO - 21:07:33: worker thread finished; awaiting finish of 5 more threads\n",
      "INFO - 21:07:33: worker thread finished; awaiting finish of 4 more threads\n",
      "INFO - 21:07:33: worker thread finished; awaiting finish of 3 more threads\n",
      "INFO - 21:07:33: worker thread finished; awaiting finish of 2 more threads\n",
      "INFO - 21:07:33: worker thread finished; awaiting finish of 1 more threads\n",
      "INFO - 21:07:33: worker thread finished; awaiting finish of 0 more threads\n",
      "INFO - 21:07:33: EPOCH - 24 : training on 2107 raw words (8 effective words) took 0.0s, 2838 effective words/s\n",
      "INFO - 21:07:33: worker thread finished; awaiting finish of 6 more threads\n",
      "INFO - 21:07:33: worker thread finished; awaiting finish of 5 more threads\n",
      "INFO - 21:07:33: worker thread finished; awaiting finish of 4 more threads\n",
      "INFO - 21:07:33: worker thread finished; awaiting finish of 3 more threads\n",
      "INFO - 21:07:33: worker thread finished; awaiting finish of 2 more threads\n",
      "INFO - 21:07:33: worker thread finished; awaiting finish of 1 more threads\n",
      "INFO - 21:07:33: worker thread finished; awaiting finish of 0 more threads\n",
      "INFO - 21:07:33: EPOCH - 25 : training on 2107 raw words (12 effective words) took 0.0s, 4569 effective words/s\n",
      "INFO - 21:07:33: worker thread finished; awaiting finish of 6 more threads\n",
      "INFO - 21:07:33: worker thread finished; awaiting finish of 5 more threads\n"
     ]
    },
    {
     "name": "stderr",
     "output_type": "stream",
     "text": [
      "INFO - 21:07:33: worker thread finished; awaiting finish of 4 more threads\n",
      "INFO - 21:07:33: worker thread finished; awaiting finish of 3 more threads\n",
      "INFO - 21:07:33: worker thread finished; awaiting finish of 2 more threads\n",
      "INFO - 21:07:33: worker thread finished; awaiting finish of 1 more threads\n",
      "INFO - 21:07:33: worker thread finished; awaiting finish of 0 more threads\n",
      "INFO - 21:07:33: EPOCH - 26 : training on 2107 raw words (6 effective words) took 0.0s, 2148 effective words/s\n",
      "INFO - 21:07:33: worker thread finished; awaiting finish of 6 more threads\n",
      "INFO - 21:07:33: worker thread finished; awaiting finish of 5 more threads\n",
      "INFO - 21:07:33: worker thread finished; awaiting finish of 4 more threads\n",
      "INFO - 21:07:33: worker thread finished; awaiting finish of 3 more threads\n",
      "INFO - 21:07:33: worker thread finished; awaiting finish of 2 more threads\n",
      "INFO - 21:07:33: worker thread finished; awaiting finish of 1 more threads\n",
      "INFO - 21:07:33: worker thread finished; awaiting finish of 0 more threads\n",
      "INFO - 21:07:33: EPOCH - 27 : training on 2107 raw words (15 effective words) took 0.0s, 5524 effective words/s\n",
      "INFO - 21:07:33: worker thread finished; awaiting finish of 6 more threads\n",
      "INFO - 21:07:33: worker thread finished; awaiting finish of 5 more threads\n",
      "INFO - 21:07:33: worker thread finished; awaiting finish of 4 more threads\n",
      "INFO - 21:07:33: worker thread finished; awaiting finish of 3 more threads\n",
      "INFO - 21:07:33: worker thread finished; awaiting finish of 2 more threads\n",
      "INFO - 21:07:33: worker thread finished; awaiting finish of 1 more threads\n",
      "INFO - 21:07:33: worker thread finished; awaiting finish of 0 more threads\n",
      "INFO - 21:07:33: EPOCH - 28 : training on 2107 raw words (5 effective words) took 0.0s, 1464 effective words/s\n",
      "INFO - 21:07:33: worker thread finished; awaiting finish of 6 more threads\n",
      "INFO - 21:07:33: worker thread finished; awaiting finish of 5 more threads\n",
      "INFO - 21:07:33: worker thread finished; awaiting finish of 4 more threads\n",
      "INFO - 21:07:33: worker thread finished; awaiting finish of 3 more threads\n",
      "INFO - 21:07:33: worker thread finished; awaiting finish of 2 more threads\n",
      "INFO - 21:07:33: worker thread finished; awaiting finish of 1 more threads\n",
      "INFO - 21:07:33: worker thread finished; awaiting finish of 0 more threads\n",
      "INFO - 21:07:33: EPOCH - 29 : training on 2107 raw words (9 effective words) took 0.0s, 2781 effective words/s\n",
      "INFO - 21:07:33: worker thread finished; awaiting finish of 6 more threads\n",
      "INFO - 21:07:33: worker thread finished; awaiting finish of 5 more threads\n",
      "INFO - 21:07:33: worker thread finished; awaiting finish of 4 more threads\n",
      "INFO - 21:07:33: worker thread finished; awaiting finish of 3 more threads\n",
      "INFO - 21:07:33: worker thread finished; awaiting finish of 2 more threads\n",
      "INFO - 21:07:33: worker thread finished; awaiting finish of 1 more threads\n",
      "INFO - 21:07:33: worker thread finished; awaiting finish of 0 more threads\n",
      "INFO - 21:07:33: EPOCH - 30 : training on 2107 raw words (9 effective words) took 0.0s, 2784 effective words/s\n",
      "INFO - 21:07:33: Word2Vec lifecycle event {'msg': 'training on 63210 raw words (245 effective words) took 0.3s, 888 effective words/s', 'datetime': '2022-04-26T21:07:33.551697', 'gensim': '4.1.2', 'python': '3.7.11 (default, Jul 27 2021, 07:03:16) \\n[Clang 10.0.0 ]', 'platform': 'Darwin-21.4.0-x86_64-i386-64bit', 'event': 'train'}\n"
     ]
    },
    {
     "name": "stdout",
     "output_type": "stream",
     "text": [
      "Time to train the model: 0.0 mins\n"
     ]
    }
   ],
   "source": [
    "t = time()\n",
    "\n",
    "w2v_model.train(sentences, total_examples=w2v_model.corpus_count, epochs=30, report_delay=1)\n",
    "\n",
    "print('Time to train the model: {} mins'.format(round((time() - t) / 60, 2)))"
   ]
  },
  {
   "cell_type": "markdown",
   "metadata": {},
   "source": [
    "# Similarity and Odd-One-Out:\n",
    "Odd-One-Out:ask our model to give us the word that does not belong to the list!"
   ]
  },
  {
   "cell_type": "code",
   "execution_count": 30,
   "metadata": {},
   "outputs": [
    {
     "data": {
      "text/plain": [
       "[('s', 0.9992284774780273),\n",
       " ('russian', 0.9992067813873291),\n",
       " ('say', 0.9991176724433899),\n",
       " ('russia', 0.999078094959259),\n",
       " ('wednesday', 0.9990284442901611),\n",
       " ('u', 0.9990022778511047),\n",
       " ('president', 0.9986846446990967),\n",
       " ('ukraine', 0.9985914826393127)]"
      ]
     },
     "execution_count": 30,
     "metadata": {},
     "output_type": "execute_result"
    }
   ],
   "source": [
    "w2v_model.wv.most_similar(positive=[\"war\"])"
   ]
  },
  {
   "cell_type": "code",
   "execution_count": 33,
   "metadata": {},
   "outputs": [
    {
     "data": {
      "text/plain": [
       "[('s', 0.9986807703971863),\n",
       " ('say', 0.9985987544059753),\n",
       " ('war', 0.9985916018486023),\n",
       " ('russian', 0.9985873103141785),\n",
       " ('wednesday', 0.9985467791557312),\n",
       " ('u', 0.9984886050224304),\n",
       " ('russia', 0.998401403427124),\n",
       " ('president', 0.998171329498291)]"
      ]
     },
     "execution_count": 33,
     "metadata": {},
     "output_type": "execute_result"
    }
   ],
   "source": [
    "w2v_model.wv.most_similar(positive=[\"ukraine\"])"
   ]
  },
  {
   "cell_type": "code",
   "execution_count": 35,
   "metadata": {},
   "outputs": [
    {
     "data": {
      "text/plain": [
       "[('russian', 0.9987821578979492),\n",
       " ('s', 0.9987525939941406),\n",
       " ('war', 0.9986845254898071),\n",
       " ('say', 0.9986649751663208),\n",
       " ('u', 0.9986168146133423),\n",
       " ('wednesday', 0.9986019134521484),\n",
       " ('russia', 0.9985033273696899),\n",
       " ('ukraine', 0.9981712698936462)]"
      ]
     },
     "execution_count": 35,
     "metadata": {},
     "output_type": "execute_result"
    }
   ],
   "source": [
    "w2v_model.wv.most_similar(positive=[\"president\"])"
   ]
  },
  {
   "cell_type": "code",
   "execution_count": 36,
   "metadata": {},
   "outputs": [
    {
     "data": {
      "text/plain": [
       "0.9986847"
      ]
     },
     "execution_count": 36,
     "metadata": {},
     "output_type": "execute_result"
    }
   ],
   "source": [
    "w2v_model.wv.similarity(\"president\", 'war')"
   ]
  },
  {
   "cell_type": "code",
   "execution_count": 37,
   "metadata": {},
   "outputs": [
    {
     "data": {
      "text/plain": [
       "0.99900216"
      ]
     },
     "execution_count": 37,
     "metadata": {},
     "output_type": "execute_result"
    }
   ],
   "source": [
    "w2v_model.wv.similarity(\"u\", 'war')"
   ]
  },
  {
   "cell_type": "code",
   "execution_count": 39,
   "metadata": {},
   "outputs": [
    {
     "data": {
      "text/plain": [
       "'u'"
      ]
     },
     "execution_count": 39,
     "metadata": {},
     "output_type": "execute_result"
    }
   ],
   "source": [
    "w2v_model.wv.doesnt_match([\"u\", \"war\", \"russia\"])"
   ]
  },
  {
   "cell_type": "code",
   "execution_count": null,
   "metadata": {},
   "outputs": [],
   "source": []
  }
 ],
 "metadata": {
  "kernelspec": {
   "display_name": "Python 3 (ipykernel)",
   "language": "python",
   "name": "python3"
  },
  "language_info": {
   "codemirror_mode": {
    "name": "ipython",
    "version": 3
   },
   "file_extension": ".py",
   "mimetype": "text/x-python",
   "name": "python",
   "nbconvert_exporter": "python",
   "pygments_lexer": "ipython3",
   "version": "3.7.11"
  }
 },
 "nbformat": 4,
 "nbformat_minor": 4
}
