{
 "cells": [
  {
   "cell_type": "code",
   "execution_count": 1,
   "id": "21aa6244",
   "metadata": {},
   "outputs": [],
   "source": [
    "\n",
    "\n",
    "\n",
    "\n",
    "import pandas as pd"
   ]
  },
  {
   "cell_type": "code",
   "execution_count": 6,
   "id": "39ed80cb",
   "metadata": {},
   "outputs": [],
   "source": [
    "df = pd.read_csv('../data/processed/manual-parse-articles-49651.csv')"
   ]
  },
  {
   "cell_type": "code",
   "execution_count": 14,
   "id": "6bf02f79",
   "metadata": {},
   "outputs": [],
   "source": [
    "new_df = df[df['art_processed']==1]"
   ]
  },
  {
   "cell_type": "code",
   "execution_count": 15,
   "id": "8f871224",
   "metadata": {},
   "outputs": [
    {
     "data": {
      "text/plain": [
       "9"
      ]
     },
     "execution_count": 15,
     "metadata": {},
     "output_type": "execute_result"
    }
   ],
   "source": [
    "len(new_df)"
   ]
  },
  {
   "cell_type": "code",
   "execution_count": null,
   "id": "01f8ccf2",
   "metadata": {},
   "outputs": [],
   "source": []
  },
  {
   "cell_type": "code",
   "execution_count": null,
   "id": "753a51f9",
   "metadata": {},
   "outputs": [],
   "source": []
  },
  {
   "cell_type": "code",
   "execution_count": 10,
   "id": "19003a42",
   "metadata": {},
   "outputs": [],
   "source": [
    "from os import listdir\n",
    "from os.path import isfile, join\n",
    "onlyfiles = [f for f in listdir('../data/processed/') if isfile(join('../data/processed/', f))]"
   ]
  },
  {
   "cell_type": "code",
   "execution_count": 13,
   "id": "c45322fb",
   "metadata": {},
   "outputs": [],
   "source": [
    "listOfVal = [x for x in onlyfiles if 'manual-parse' in x ]"
   ]
  },
  {
   "cell_type": "code",
   "execution_count": 22,
   "id": "410b7a54",
   "metadata": {},
   "outputs": [
    {
     "data": {
      "text/plain": [
       "['manual-parse-articles-67768.csv',\n",
       " 'manual-parse-articles-49651.csv',\n",
       " 'manual-parse-articles-87749.csv',\n",
       " 'manual-parse-articles-74817.csv',\n",
       " 'manual-parse-articles-42046.csv',\n",
       " 'manual-parse-articles-76295.csv']"
      ]
     },
     "execution_count": 22,
     "metadata": {},
     "output_type": "execute_result"
    }
   ],
   "source": [
    "listOfVal"
   ]
  },
  {
   "cell_type": "code",
   "execution_count": 25,
   "id": "be2b8548",
   "metadata": {},
   "outputs": [],
   "source": [
    "smum = 0"
   ]
  },
  {
   "cell_type": "code",
   "execution_count": 26,
   "id": "6398e243",
   "metadata": {},
   "outputs": [
    {
     "name": "stdout",
     "output_type": "stream",
     "text": [
      "manual-parse-articles-67768.csv\n",
      "26\n",
      "manual-parse-articles-49651.csv\n",
      "35\n",
      "manual-parse-articles-87749.csv\n",
      "38\n",
      "manual-parse-articles-74817.csv\n",
      "38\n",
      "manual-parse-articles-42046.csv\n",
      "38\n",
      "manual-parse-articles-76295.csv\n",
      "54\n"
     ]
    }
   ],
   "source": [
    "for i in listOfVal:\n",
    "    df = pd.read_csv(f'../data/processed/{i}')\n",
    "    df = df[df['art_processed']==1]\n",
    "    smum = smum + len(df)\n",
    "    print(i)\n",
    "    print(smum)"
   ]
  },
  {
   "cell_type": "code",
   "execution_count": 21,
   "id": "3104c6d9",
   "metadata": {},
   "outputs": [
    {
     "data": {
      "text/plain": [
       "13548"
      ]
     },
     "execution_count": 21,
     "metadata": {},
     "output_type": "execute_result"
    }
   ],
   "source": [
    "smum"
   ]
  },
  {
   "cell_type": "code",
   "execution_count": null,
   "id": "585c17ed",
   "metadata": {},
   "outputs": [],
   "source": []
  }
 ],
 "metadata": {
  "kernelspec": {
   "display_name": "Python 3 (ipykernel)",
   "language": "python",
   "name": "python3"
  },
  "language_info": {
   "codemirror_mode": {
    "name": "ipython",
    "version": 3
   },
   "file_extension": ".py",
   "mimetype": "text/x-python",
   "name": "python",
   "nbconvert_exporter": "python",
   "pygments_lexer": "ipython3",
   "version": "3.10.4"
  }
 },
 "nbformat": 4,
 "nbformat_minor": 5
}
