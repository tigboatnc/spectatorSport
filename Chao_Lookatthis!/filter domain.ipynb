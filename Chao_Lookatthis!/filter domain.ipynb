{
 "cells": [
  {
   "cell_type": "code",
   "execution_count": 30,
   "id": "d214cb11",
   "metadata": {},
   "outputs": [],
   "source": [
    "import pandas as pd "
   ]
  },
  {
   "cell_type": "code",
   "execution_count": 31,
   "id": "594f3da8",
   "metadata": {},
   "outputs": [
    {
     "data": {
      "text/html": [
       "<div>\n",
       "<style scoped>\n",
       "    .dataframe tbody tr th:only-of-type {\n",
       "        vertical-align: middle;\n",
       "    }\n",
       "\n",
       "    .dataframe tbody tr th {\n",
       "        vertical-align: top;\n",
       "    }\n",
       "\n",
       "    .dataframe thead th {\n",
       "        text-align: right;\n",
       "    }\n",
       "</style>\n",
       "<table border=\"1\" class=\"dataframe\">\n",
       "  <thead>\n",
       "    <tr style=\"text-align: right;\">\n",
       "      <th></th>\n",
       "      <th>Unnamed: 0</th>\n",
       "      <th>art_Unnamed: 0</th>\n",
       "      <th>art_uid</th>\n",
       "      <th>art_article_author</th>\n",
       "      <th>art_article_date</th>\n",
       "      <th>art_article_text</th>\n",
       "      <th>art_article_url</th>\n",
       "      <th>ref_Unnamed: 0</th>\n",
       "      <th>ref_Unnamed: 0.1</th>\n",
       "      <th>ref_uid</th>\n",
       "      <th>ref_title</th>\n",
       "      <th>ref_time</th>\n",
       "      <th>ref_source</th>\n",
       "      <th>ref_time-capture</th>\n",
       "      <th>ref_sc</th>\n",
       "      <th>ref_domain</th>\n",
       "      <th>ref_full-text</th>\n",
       "      <th>ref_sc2</th>\n",
       "      <th>ref_geo</th>\n",
       "      <th>ref_time_parsed</th>\n",
       "    </tr>\n",
       "  </thead>\n",
       "  <tbody>\n",
       "    <tr>\n",
       "      <th>0</th>\n",
       "      <td>0</td>\n",
       "      <td>5</td>\n",
       "      <td>02b5cecd-fac3-4b89-80a2-5bc7d3356d51</td>\n",
       "      <td>['Jake Epstein']</td>\n",
       "      <td>2022-04-04 00:00:00</td>\n",
       "      <td>Lithuania's top diplomat said buying Russian o...</td>\n",
       "      <td>https://www.businessinsider.com/lithuania-dipl...</td>\n",
       "      <td>16</td>\n",
       "      <td>16</td>\n",
       "      <td>02b5cecd-fac3-4b89-80a2-5bc7d3356d51</td>\n",
       "      <td>Lithuanian ambassador to Ukraine to return to ...</td>\n",
       "      <td>4 hours ago</td>\n",
       "      <td>https://twitter.com/idreesali114/status/151098...</td>\n",
       "      <td>2022-04-04 13:47:10.051481</td>\n",
       "      <td>False</td>\n",
       "      <td>data:image/svg+xml;base64,PHN2ZyB2ZXJzaW9uPSIx...</td>\n",
       "      <td>SourceOn live map\\nTell friends\\n4 hours ago -...</td>\n",
       "      <td>False</td>\n",
       "      <td>54°41′N 25°16′E</td>\n",
       "      <td>2022-04-04 09:50:58</td>\n",
       "    </tr>\n",
       "    <tr>\n",
       "      <th>1</th>\n",
       "      <td>1</td>\n",
       "      <td>1</td>\n",
       "      <td>8ea2c08f-d9ff-4aa8-b710-9b6f26c7bb39</td>\n",
       "      <td>['Martin Belam', 'Léonie Chao-Fong', 'Gloria O...</td>\n",
       "      <td>2022-04-04 00:00:00</td>\n",
       "      <td>This live blog is now closed, you can follow a...</td>\n",
       "      <td>https://www.theguardian.com/world/live/2022/ap...</td>\n",
       "      <td>17</td>\n",
       "      <td>17</td>\n",
       "      <td>8ea2c08f-d9ff-4aa8-b710-9b6f26c7bb39</td>\n",
       "      <td>Prosecutor General Venediktova says that the w...</td>\n",
       "      <td>4 hours ago</td>\n",
       "      <td>https://twitter.com/prm_ua/status/151097769528...</td>\n",
       "      <td>2022-04-04 13:47:14.411519</td>\n",
       "      <td>False</td>\n",
       "      <td>data:image/svg+xml;base64,PHN2ZyB2ZXJzaW9uPSIx...</td>\n",
       "      <td>SourceOn live map\\nTell friends\\n4 hours ago -...</td>\n",
       "      <td>False</td>\n",
       "      <td>50°38′N 29°55′E</td>\n",
       "      <td>2022-04-04 09:50:58</td>\n",
       "    </tr>\n",
       "    <tr>\n",
       "      <th>2</th>\n",
       "      <td>2</td>\n",
       "      <td>2</td>\n",
       "      <td>8ea2c08f-d9ff-4aa8-b710-9b6f26c7bb39</td>\n",
       "      <td>['Writer Smith']</td>\n",
       "      <td>2022-04-04 17:59:18+00:00</td>\n",
       "      <td>The Prosecutor General’s Office was able to re...</td>\n",
       "      <td>https://news84media.com/russia-ukraine/the-wor...</td>\n",
       "      <td>17</td>\n",
       "      <td>17</td>\n",
       "      <td>8ea2c08f-d9ff-4aa8-b710-9b6f26c7bb39</td>\n",
       "      <td>Prosecutor General Venediktova says that the w...</td>\n",
       "      <td>4 hours ago</td>\n",
       "      <td>https://twitter.com/prm_ua/status/151097769528...</td>\n",
       "      <td>2022-04-04 13:47:14.411519</td>\n",
       "      <td>False</td>\n",
       "      <td>data:image/svg+xml;base64,PHN2ZyB2ZXJzaW9uPSIx...</td>\n",
       "      <td>SourceOn live map\\nTell friends\\n4 hours ago -...</td>\n",
       "      <td>False</td>\n",
       "      <td>50°38′N 29°55′E</td>\n",
       "      <td>2022-04-04 09:50:58</td>\n",
       "    </tr>\n",
       "    <tr>\n",
       "      <th>3</th>\n",
       "      <td>3</td>\n",
       "      <td>3</td>\n",
       "      <td>8ea2c08f-d9ff-4aa8-b710-9b6f26c7bb39</td>\n",
       "      <td>['Scott Lucas']</td>\n",
       "      <td>2022-04-04 06:24:08+01:00</td>\n",
       "      <td>Larisa Savenko outside her damaged house in Bu...</td>\n",
       "      <td>https://eaworldview.com/2022/04/ukraine-war-bu...</td>\n",
       "      <td>17</td>\n",
       "      <td>17</td>\n",
       "      <td>8ea2c08f-d9ff-4aa8-b710-9b6f26c7bb39</td>\n",
       "      <td>Prosecutor General Venediktova says that the w...</td>\n",
       "      <td>4 hours ago</td>\n",
       "      <td>https://twitter.com/prm_ua/status/151097769528...</td>\n",
       "      <td>2022-04-04 13:47:14.411519</td>\n",
       "      <td>False</td>\n",
       "      <td>data:image/svg+xml;base64,PHN2ZyB2ZXJzaW9uPSIx...</td>\n",
       "      <td>SourceOn live map\\nTell friends\\n4 hours ago -...</td>\n",
       "      <td>False</td>\n",
       "      <td>50°38′N 29°55′E</td>\n",
       "      <td>2022-04-04 09:50:58</td>\n",
       "    </tr>\n",
       "    <tr>\n",
       "      <th>4</th>\n",
       "      <td>4</td>\n",
       "      <td>4</td>\n",
       "      <td>8ea2c08f-d9ff-4aa8-b710-9b6f26c7bb39</td>\n",
       "      <td>['Iryna Khalip', 'Natallia Radzina', 'Andrei S...</td>\n",
       "      <td>2022-04-04 00:00:00</td>\n",
       "      <td>AFU Repels Enemy Attacks On All Fronts 8 4.04....</td>\n",
       "      <td>https://charter97.org/en/news/2022/4/4/462037/</td>\n",
       "      <td>17</td>\n",
       "      <td>17</td>\n",
       "      <td>8ea2c08f-d9ff-4aa8-b710-9b6f26c7bb39</td>\n",
       "      <td>Prosecutor General Venediktova says that the w...</td>\n",
       "      <td>4 hours ago</td>\n",
       "      <td>https://twitter.com/prm_ua/status/151097769528...</td>\n",
       "      <td>2022-04-04 13:47:14.411519</td>\n",
       "      <td>False</td>\n",
       "      <td>data:image/svg+xml;base64,PHN2ZyB2ZXJzaW9uPSIx...</td>\n",
       "      <td>SourceOn live map\\nTell friends\\n4 hours ago -...</td>\n",
       "      <td>False</td>\n",
       "      <td>50°38′N 29°55′E</td>\n",
       "      <td>2022-04-04 09:50:58</td>\n",
       "    </tr>\n",
       "  </tbody>\n",
       "</table>\n",
       "</div>"
      ],
      "text/plain": [
       "   Unnamed: 0  art_Unnamed: 0                               art_uid  \\\n",
       "0           0               5  02b5cecd-fac3-4b89-80a2-5bc7d3356d51   \n",
       "1           1               1  8ea2c08f-d9ff-4aa8-b710-9b6f26c7bb39   \n",
       "2           2               2  8ea2c08f-d9ff-4aa8-b710-9b6f26c7bb39   \n",
       "3           3               3  8ea2c08f-d9ff-4aa8-b710-9b6f26c7bb39   \n",
       "4           4               4  8ea2c08f-d9ff-4aa8-b710-9b6f26c7bb39   \n",
       "\n",
       "                                  art_article_author  \\\n",
       "0                                   ['Jake Epstein']   \n",
       "1  ['Martin Belam', 'Léonie Chao-Fong', 'Gloria O...   \n",
       "2                                   ['Writer Smith']   \n",
       "3                                    ['Scott Lucas']   \n",
       "4  ['Iryna Khalip', 'Natallia Radzina', 'Andrei S...   \n",
       "\n",
       "            art_article_date  \\\n",
       "0        2022-04-04 00:00:00   \n",
       "1        2022-04-04 00:00:00   \n",
       "2  2022-04-04 17:59:18+00:00   \n",
       "3  2022-04-04 06:24:08+01:00   \n",
       "4        2022-04-04 00:00:00   \n",
       "\n",
       "                                    art_article_text  \\\n",
       "0  Lithuania's top diplomat said buying Russian o...   \n",
       "1  This live blog is now closed, you can follow a...   \n",
       "2  The Prosecutor General’s Office was able to re...   \n",
       "3  Larisa Savenko outside her damaged house in Bu...   \n",
       "4  AFU Repels Enemy Attacks On All Fronts 8 4.04....   \n",
       "\n",
       "                                     art_article_url  ref_Unnamed: 0  \\\n",
       "0  https://www.businessinsider.com/lithuania-dipl...              16   \n",
       "1  https://www.theguardian.com/world/live/2022/ap...              17   \n",
       "2  https://news84media.com/russia-ukraine/the-wor...              17   \n",
       "3  https://eaworldview.com/2022/04/ukraine-war-bu...              17   \n",
       "4     https://charter97.org/en/news/2022/4/4/462037/              17   \n",
       "\n",
       "   ref_Unnamed: 0.1                               ref_uid  \\\n",
       "0                16  02b5cecd-fac3-4b89-80a2-5bc7d3356d51   \n",
       "1                17  8ea2c08f-d9ff-4aa8-b710-9b6f26c7bb39   \n",
       "2                17  8ea2c08f-d9ff-4aa8-b710-9b6f26c7bb39   \n",
       "3                17  8ea2c08f-d9ff-4aa8-b710-9b6f26c7bb39   \n",
       "4                17  8ea2c08f-d9ff-4aa8-b710-9b6f26c7bb39   \n",
       "\n",
       "                                           ref_title     ref_time  \\\n",
       "0  Lithuanian ambassador to Ukraine to return to ...  4 hours ago   \n",
       "1  Prosecutor General Venediktova says that the w...  4 hours ago   \n",
       "2  Prosecutor General Venediktova says that the w...  4 hours ago   \n",
       "3  Prosecutor General Venediktova says that the w...  4 hours ago   \n",
       "4  Prosecutor General Venediktova says that the w...  4 hours ago   \n",
       "\n",
       "                                          ref_source  \\\n",
       "0  https://twitter.com/idreesali114/status/151098...   \n",
       "1  https://twitter.com/prm_ua/status/151097769528...   \n",
       "2  https://twitter.com/prm_ua/status/151097769528...   \n",
       "3  https://twitter.com/prm_ua/status/151097769528...   \n",
       "4  https://twitter.com/prm_ua/status/151097769528...   \n",
       "\n",
       "             ref_time-capture  ref_sc  \\\n",
       "0  2022-04-04 13:47:10.051481   False   \n",
       "1  2022-04-04 13:47:14.411519   False   \n",
       "2  2022-04-04 13:47:14.411519   False   \n",
       "3  2022-04-04 13:47:14.411519   False   \n",
       "4  2022-04-04 13:47:14.411519   False   \n",
       "\n",
       "                                          ref_domain  \\\n",
       "0  data:image/svg+xml;base64,PHN2ZyB2ZXJzaW9uPSIx...   \n",
       "1  data:image/svg+xml;base64,PHN2ZyB2ZXJzaW9uPSIx...   \n",
       "2  data:image/svg+xml;base64,PHN2ZyB2ZXJzaW9uPSIx...   \n",
       "3  data:image/svg+xml;base64,PHN2ZyB2ZXJzaW9uPSIx...   \n",
       "4  data:image/svg+xml;base64,PHN2ZyB2ZXJzaW9uPSIx...   \n",
       "\n",
       "                                       ref_full-text  ref_sc2  \\\n",
       "0  SourceOn live map\\nTell friends\\n4 hours ago -...    False   \n",
       "1  SourceOn live map\\nTell friends\\n4 hours ago -...    False   \n",
       "2  SourceOn live map\\nTell friends\\n4 hours ago -...    False   \n",
       "3  SourceOn live map\\nTell friends\\n4 hours ago -...    False   \n",
       "4  SourceOn live map\\nTell friends\\n4 hours ago -...    False   \n",
       "\n",
       "           ref_geo      ref_time_parsed  \n",
       "0  54°41′N 25°16′E  2022-04-04 09:50:58  \n",
       "1  50°38′N 29°55′E  2022-04-04 09:50:58  \n",
       "2  50°38′N 29°55′E  2022-04-04 09:50:58  \n",
       "3  50°38′N 29°55′E  2022-04-04 09:50:58  \n",
       "4  50°38′N 29°55′E  2022-04-04 09:50:58  "
      ]
     },
     "execution_count": 31,
     "metadata": {},
     "output_type": "execute_result"
    }
   ],
   "source": [
    "# author-parse-articles.csv\n",
    "df = pd.read_csv('../data/processed/author-parse-articles.csv')\n",
    "df.head()"
   ]
  },
  {
   "cell_type": "code",
   "execution_count": 50,
   "id": "015b6d6b",
   "metadata": {},
   "outputs": [],
   "source": [
    "# Getting Domains From News Websites \n",
    "m = df['art_article_url'].str.extract('(?<=http://)(.*?)(?=/)|(?<=https://)(.*?)(?=/)')\n",
    "m = m[0].fillna(m[1]).fillna(df['art_article_url'])\n",
    "df['art_extracted_domain'] = m"
   ]
  },
  {
   "cell_type": "code",
   "execution_count": 51,
   "id": "85e5549e",
   "metadata": {},
   "outputs": [
    {
     "name": "stdout",
     "output_type": "stream",
     "text": [
      "0       www.businessinsider.com\n",
      "1           www.theguardian.com\n",
      "2               news84media.com\n",
      "3               eaworldview.com\n",
      "4                 charter97.org\n",
      "                 ...           \n",
      "6342         www.compuserve.com\n",
      "6343         www.denverpost.com\n",
      "6344       hindustannewshub.com\n",
      "6345      albaniandailynews.com\n",
      "6346                theprint.in\n",
      "Name: art_extracted_domain, Length: 6347, dtype: object\n"
     ]
    }
   ],
   "source": [
    "# select the extracted domain\n",
    "print(df['art_extracted_domain'])"
   ]
  },
  {
   "cell_type": "code",
   "execution_count": 52,
   "id": "4f8c5cca",
   "metadata": {},
   "outputs": [],
   "source": [
    "# df['size']=df['art_extracted_domain'].size()\n",
    "# df['art_extracted_domain']=df['art_extracted_domain'].append(df('size'))\n",
    "# print(df['art_extracted_domain'])"
   ]
  },
  {
   "cell_type": "code",
   "execution_count": 53,
   "id": "3b2b8443",
   "metadata": {},
   "outputs": [
    {
     "data": {
      "text/plain": [
       "pandas.core.series.Series"
      ]
     },
     "execution_count": 53,
     "metadata": {},
     "output_type": "execute_result"
    }
   ],
   "source": [
    "# figure out the references\n",
    "t = df.groupby(['art_extracted_domain']).size()\n",
    "type(t)"
   ]
  },
  {
   "cell_type": "code",
   "execution_count": 54,
   "id": "d175f3a5",
   "metadata": {},
   "outputs": [
    {
     "data": {
      "text/plain": [
       "489"
      ]
     },
     "execution_count": 54,
     "metadata": {},
     "output_type": "execute_result"
    }
   ],
   "source": [
    "# maximum number of references for a domain\n",
    "t.max()"
   ]
  },
  {
   "cell_type": "code",
   "execution_count": 55,
   "id": "533628a3",
   "metadata": {},
   "outputs": [
    {
     "data": {
      "text/plain": [
       "1"
      ]
     },
     "execution_count": 55,
     "metadata": {},
     "output_type": "execute_result"
    }
   ],
   "source": [
    "# minimum number of references for a domain\n",
    "t.min()"
   ]
  },
  {
   "cell_type": "code",
   "execution_count": 68,
   "id": "86740858",
   "metadata": {},
   "outputs": [
    {
     "data": {
      "text/plain": [
       "art_extracted_domain\n",
       "www.nytimes.com        489\n",
       "www.cnn.com            412\n",
       "www.theguardian.com    258\n",
       "www.reuters.com        217\n",
       "www.aljazeera.com      181\n",
       "                      ... \n",
       "warsawinstitute.org      1\n",
       "wdnyradio.com            1\n",
       "weartv.com               1\n",
       "weisradio.com            1\n",
       "zoso.ro                  1\n",
       "Length: 902, dtype: int64"
      ]
     },
     "execution_count": 68,
     "metadata": {},
     "output_type": "execute_result"
    }
   ],
   "source": [
    "#sort domain by references\n",
    "a = df.groupby(['art_extracted_domain']).size().sort_values(ascending=False)\n",
    "a"
   ]
  },
  {
   "cell_type": "code",
   "execution_count": 69,
   "id": "e7641ebc",
   "metadata": {},
   "outputs": [],
   "source": [
    "domain = a.reset_index(level=None, drop=False, name=None, inplace=False)"
   ]
  },
  {
   "cell_type": "code",
   "execution_count": 84,
   "id": "0bc4b11c",
   "metadata": {},
   "outputs": [
    {
     "name": "stdout",
     "output_type": "stream",
     "text": [
      "<class 'pandas.core.frame.DataFrame'>\n",
      "RangeIndex: 902 entries, 0 to 901\n",
      "Data columns (total 2 columns):\n",
      " #   Column                Non-Null Count  Dtype \n",
      "---  ------                --------------  ----- \n",
      " 0   art_extracted_domain  902 non-null    object\n",
      " 1   0                     902 non-null    int64 \n",
      "dtypes: int64(1), object(1)\n",
      "memory usage: 14.2+ KB\n"
     ]
    }
   ],
   "source": [
    "domain.info()"
   ]
  },
  {
   "cell_type": "code",
   "execution_count": 87,
   "id": "474961f5",
   "metadata": {},
   "outputs": [
    {
     "data": {
      "text/plain": [
       "str"
      ]
     },
     "execution_count": 87,
     "metadata": {},
     "output_type": "execute_result"
    }
   ],
   "source": [
    "type(domain['art_extracted_domain'][1])"
   ]
  },
  {
   "cell_type": "code",
   "execution_count": 78,
   "id": "77493fe1",
   "metadata": {},
   "outputs": [
    {
     "data": {
      "text/plain": [
       "numpy.int64"
      ]
     },
     "execution_count": 78,
     "metadata": {},
     "output_type": "execute_result"
    }
   ],
   "source": [
    "temp = domain[0][1]\n",
    "type(temp)"
   ]
  },
  {
   "cell_type": "code",
   "execution_count": 22,
   "id": "7b50406c",
   "metadata": {},
   "outputs": [
    {
     "data": {
      "text/plain": [
       "numpy.int64"
      ]
     },
     "execution_count": 22,
     "metadata": {},
     "output_type": "execute_result"
    }
   ],
   "source": []
  },
  {
   "cell_type": "code",
   "execution_count": 93,
   "id": "9101bfd2",
   "metadata": {},
   "outputs": [
    {
     "data": {
      "text/plain": [
       "['www.businessinsider.com',\n",
       " 'www.theguardian.com',\n",
       " 'news84media.com',\n",
       " 'eaworldview.com',\n",
       " 'charter97.org',\n",
       " 'www.spamchronicles.com',\n",
       " 'eturbonews.com',\n",
       " 'www.nytimes.com',\n",
       " 'rubryka.com',\n",
       " 'indianexpress.com',\n",
       " 'www.themoscowtimes.com',\n",
       " 'www.thestar.com',\n",
       " 'www.staradvertiser.com',\n",
       " 'www.thenationalnews.com',\n",
       " 'www.worldinwar.eu',\n",
       " 'www.scoopnest.com',\n",
       " 'metallicman.com',\n",
       " 'metallicman.com',\n",
       " 'www.nytimes.com',\n",
       " 'edition.cnn.com',\n",
       " 'edition.cnn.com',\n",
       " 'www.rferl.org',\n",
       " 'www.rferl.org',\n",
       " 'www.aljazeera.com',\n",
       " 'www.newsnationnow.com',\n",
       " 'www.rutlandherald.com',\n",
       " 'news84media.com',\n",
       " 'news84media.com',\n",
       " 'www.reuters.com',\n",
       " 'www.usnews.com',\n",
       " 'www.businessinsider.com',\n",
       " 'www.telegraph.co.uk',\n",
       " 'hindustannewshub.com',\n",
       " 'www.ny1.com',\n",
       " 'www.voanews.com',\n",
       " 'www.glasamerike.net',\n",
       " 'thehill.com',\n",
       " 'www.politico.eu',\n",
       " 'www.nytimes.com',\n",
       " 'www.cnn.com',\n",
       " 'www.nytimes.com',\n",
       " 'www.nytimes.com',\n",
       " 'www.space.com',\n",
       " 'www.livescience.com',\n",
       " 'nypost.com',\n",
       " 'www.sciencetimes.com',\n",
       " 'www.dw.com',\n",
       " 'www.theguardian.com',\n",
       " 'www.reuters.com',\n",
       " 'www.huffpost.com']"
      ]
     },
     "execution_count": 93,
     "metadata": {},
     "output_type": "execute_result"
    }
   ],
   "source": [
    "domain_list = []\n",
    "for n in range(902):\n",
    "    domain[0][n].dtype == 'int'\n",
    "    temp = domain[0][n]\n",
    "    if temp > 20:\n",
    "        \n",
    "        domain_list.append(df['art_extracted_domain'][n])\n",
    "domain_list"
   ]
  },
  {
   "cell_type": "code",
   "execution_count": null,
   "id": "4d35059c",
   "metadata": {},
   "outputs": [],
   "source": []
  }
 ],
 "metadata": {
  "kernelspec": {
   "display_name": "Python 3 (ipykernel)",
   "language": "python",
   "name": "python3"
  },
  "language_info": {
   "codemirror_mode": {
    "name": "ipython",
    "version": 3
   },
   "file_extension": ".py",
   "mimetype": "text/x-python",
   "name": "python",
   "nbconvert_exporter": "python",
   "pygments_lexer": "ipython3",
   "version": "3.7.11"
  }
 },
 "nbformat": 4,
 "nbformat_minor": 5
}
