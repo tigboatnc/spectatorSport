{
 "cells": [
  {
   "cell_type": "code",
   "execution_count": 1,
   "id": "f9b00fbc",
   "metadata": {},
   "outputs": [],
   "source": [
    "\n",
    "\n",
    "\n",
    "\n",
    "import pandas as pd"
   ]
  },
  {
   "cell_type": "code",
   "execution_count": 6,
   "id": "19b5bbdd",
   "metadata": {},
   "outputs": [],
   "source": [
    "df = pd.read_csv('../data/processed/manual-parse-articles-49651.csv')"
   ]
  },
  {
   "cell_type": "code",
   "execution_count": 14,
   "id": "34acd482",
   "metadata": {},
   "outputs": [],
   "source": [
    "new_df = df[df['art_processed']==1]"
   ]
  },
  {
   "cell_type": "code",
   "execution_count": 15,
   "id": "a5674d79",
   "metadata": {},
   "outputs": [
    {
     "data": {
      "text/plain": [
       "9"
      ]
     },
     "execution_count": 15,
     "metadata": {},
     "output_type": "execute_result"
    }
   ],
   "source": [
    "len(new_df)"
   ]
  },
  {
   "cell_type": "code",
   "execution_count": null,
   "id": "60f42da2",
   "metadata": {},
   "outputs": [],
   "source": []
  },
  {
   "cell_type": "code",
   "execution_count": null,
   "id": "65f53bac",
   "metadata": {},
   "outputs": [],
   "source": []
  },
  {
   "cell_type": "code",
   "execution_count": 10,
   "id": "b007d081",
   "metadata": {},
   "outputs": [],
   "source": [
    "from os import listdir\n",
    "from os.path import isfile, join\n",
    "onlyfiles = [f for f in listdir('../data/processed/') if isfile(join('../data/processed/', f))]"
   ]
  },
  {
   "cell_type": "code",
   "execution_count": 13,
   "id": "5ef4ac6d",
   "metadata": {},
   "outputs": [],
   "source": [
    "listOfVal = [x for x in onlyfiles if 'manual-parse' in x ]"
   ]
  },
  {
   "cell_type": "code",
   "execution_count": 22,
   "id": "aee9b5e8",
   "metadata": {},
   "outputs": [
    {
     "data": {
      "text/plain": [
       "['manual-parse-articles-67768.csv',\n",
       " 'manual-parse-articles-49651.csv',\n",
       " 'manual-parse-articles-87749.csv',\n",
       " 'manual-parse-articles-74817.csv',\n",
       " 'manual-parse-articles-42046.csv',\n",
       " 'manual-parse-articles-76295.csv']"
      ]
     },
     "execution_count": 22,
     "metadata": {},
     "output_type": "execute_result"
    }
   ],
   "source": [
    "listOfVal"
   ]
  },
  {
   "cell_type": "code",
   "execution_count": 25,
   "id": "9601c33c",
   "metadata": {},
   "outputs": [],
   "source": [
    "smum = 0"
   ]
  },
  {
   "cell_type": "code",
   "execution_count": 26,
   "id": "b9acb588",
   "metadata": {},
   "outputs": [
    {
     "name": "stdout",
     "output_type": "stream",
     "text": [
      "manual-parse-articles-67768.csv\n",
      "26\n",
      "manual-parse-articles-49651.csv\n",
      "35\n",
      "manual-parse-articles-87749.csv\n",
      "38\n",
      "manual-parse-articles-74817.csv\n",
      "38\n",
      "manual-parse-articles-42046.csv\n",
      "38\n",
      "manual-parse-articles-76295.csv\n",
      "54\n"
     ]
    }
   ],
   "source": [
    "for i in listOfVal:\n",
    "    df = pd.read_csv(f'../data/processed/{i}')\n",
    "    df = df[df['art_processed']==1]\n",
    "    smum = smum + len(df)\n",
    "    print(i)\n",
    "    print(smum)"
   ]
  },
  {
   "cell_type": "code",
   "execution_count": 21,
   "id": "71967d1f",
   "metadata": {},
   "outputs": [
    {
     "data": {
      "text/plain": [
       "13548"
      ]
     },
     "execution_count": 21,
     "metadata": {},
     "output_type": "execute_result"
    }
   ],
   "source": [
    "smum"
   ]
  },
  {
   "cell_type": "code",
   "execution_count": null,
   "id": "dc77b4ed",
   "metadata": {},
   "outputs": [],
   "source": []
  }
 ],
 "metadata": {
  "kernelspec": {
   "display_name": "Python 3 (ipykernel)",
   "language": "python",
   "name": "python3"
  },
  "language_info": {
   "codemirror_mode": {
    "name": "ipython",
    "version": 3
   },
   "file_extension": ".py",
   "mimetype": "text/x-python",
   "name": "python",
   "nbconvert_exporter": "python",
   "pygments_lexer": "ipython3",
   "version": "3.10.4"
  }
 },
 "nbformat": 4,
 "nbformat_minor": 5
}
