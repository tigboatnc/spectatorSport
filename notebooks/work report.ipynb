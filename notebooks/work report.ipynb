{
 "cells": [
  {
   "cell_type": "code",
   "execution_count": 2,
   "id": "f3748a26",
   "metadata": {},
   "outputs": [],
   "source": [
    "# Finding Reporting "
   ]
  },
  {
   "cell_type": "code",
   "execution_count": 3,
   "id": "ac9c9edb",
   "metadata": {},
   "outputs": [],
   "source": [
    "import pandas as pd "
   ]
  },
  {
   "cell_type": "code",
   "execution_count": 4,
   "id": "364b49de",
   "metadata": {},
   "outputs": [
    {
     "data": {
      "text/html": [
       "<div>\n",
       "<style scoped>\n",
       "    .dataframe tbody tr th:only-of-type {\n",
       "        vertical-align: middle;\n",
       "    }\n",
       "\n",
       "    .dataframe tbody tr th {\n",
       "        vertical-align: top;\n",
       "    }\n",
       "\n",
       "    .dataframe thead th {\n",
       "        text-align: right;\n",
       "    }\n",
       "</style>\n",
       "<table border=\"1\" class=\"dataframe\">\n",
       "  <thead>\n",
       "    <tr style=\"text-align: right;\">\n",
       "      <th></th>\n",
       "      <th>Unnamed: 0</th>\n",
       "      <th>art_Unnamed: 0</th>\n",
       "      <th>art_uid</th>\n",
       "      <th>art_article_author</th>\n",
       "      <th>art_article_date</th>\n",
       "      <th>art_article_text</th>\n",
       "      <th>art_article_url</th>\n",
       "      <th>ref_Unnamed: 0</th>\n",
       "      <th>ref_Unnamed: 0.1</th>\n",
       "      <th>ref_uid</th>\n",
       "      <th>ref_title</th>\n",
       "      <th>ref_time</th>\n",
       "      <th>ref_source</th>\n",
       "      <th>ref_time-capture</th>\n",
       "      <th>ref_sc</th>\n",
       "      <th>ref_domain</th>\n",
       "      <th>ref_full-text</th>\n",
       "      <th>ref_sc2</th>\n",
       "      <th>ref_geo</th>\n",
       "      <th>ref_time_parsed</th>\n",
       "    </tr>\n",
       "  </thead>\n",
       "  <tbody>\n",
       "    <tr>\n",
       "      <th>0</th>\n",
       "      <td>0</td>\n",
       "      <td>5</td>\n",
       "      <td>02b5cecd-fac3-4b89-80a2-5bc7d3356d51</td>\n",
       "      <td>['Jake Epstein']</td>\n",
       "      <td>2022-04-04 00:00:00</td>\n",
       "      <td>Lithuania's top diplomat said buying Russian o...</td>\n",
       "      <td>https://www.businessinsider.com/lithuania-dipl...</td>\n",
       "      <td>16</td>\n",
       "      <td>16</td>\n",
       "      <td>02b5cecd-fac3-4b89-80a2-5bc7d3356d51</td>\n",
       "      <td>Lithuanian ambassador to Ukraine to return to ...</td>\n",
       "      <td>4 hours ago</td>\n",
       "      <td>https://twitter.com/idreesali114/status/151098...</td>\n",
       "      <td>2022-04-04 13:47:10.051481</td>\n",
       "      <td>False</td>\n",
       "      <td>data:image/svg+xml;base64,PHN2ZyB2ZXJzaW9uPSIx...</td>\n",
       "      <td>SourceOn live map\\nTell friends\\n4 hours ago -...</td>\n",
       "      <td>False</td>\n",
       "      <td>54°41′N 25°16′E</td>\n",
       "      <td>2022-04-04 09:50:58</td>\n",
       "    </tr>\n",
       "    <tr>\n",
       "      <th>1</th>\n",
       "      <td>1</td>\n",
       "      <td>1</td>\n",
       "      <td>8ea2c08f-d9ff-4aa8-b710-9b6f26c7bb39</td>\n",
       "      <td>['Martin Belam', 'Léonie Chao-Fong', 'Gloria O...</td>\n",
       "      <td>2022-04-04 00:00:00</td>\n",
       "      <td>This live blog is now closed, you can follow a...</td>\n",
       "      <td>https://www.theguardian.com/world/live/2022/ap...</td>\n",
       "      <td>17</td>\n",
       "      <td>17</td>\n",
       "      <td>8ea2c08f-d9ff-4aa8-b710-9b6f26c7bb39</td>\n",
       "      <td>Prosecutor General Venediktova says that the w...</td>\n",
       "      <td>4 hours ago</td>\n",
       "      <td>https://twitter.com/prm_ua/status/151097769528...</td>\n",
       "      <td>2022-04-04 13:47:14.411519</td>\n",
       "      <td>False</td>\n",
       "      <td>data:image/svg+xml;base64,PHN2ZyB2ZXJzaW9uPSIx...</td>\n",
       "      <td>SourceOn live map\\nTell friends\\n4 hours ago -...</td>\n",
       "      <td>False</td>\n",
       "      <td>50°38′N 29°55′E</td>\n",
       "      <td>2022-04-04 09:50:58</td>\n",
       "    </tr>\n",
       "    <tr>\n",
       "      <th>2</th>\n",
       "      <td>2</td>\n",
       "      <td>2</td>\n",
       "      <td>8ea2c08f-d9ff-4aa8-b710-9b6f26c7bb39</td>\n",
       "      <td>['Writer Smith']</td>\n",
       "      <td>2022-04-04 17:59:18+00:00</td>\n",
       "      <td>The Prosecutor General’s Office was able to re...</td>\n",
       "      <td>https://news84media.com/russia-ukraine/the-wor...</td>\n",
       "      <td>17</td>\n",
       "      <td>17</td>\n",
       "      <td>8ea2c08f-d9ff-4aa8-b710-9b6f26c7bb39</td>\n",
       "      <td>Prosecutor General Venediktova says that the w...</td>\n",
       "      <td>4 hours ago</td>\n",
       "      <td>https://twitter.com/prm_ua/status/151097769528...</td>\n",
       "      <td>2022-04-04 13:47:14.411519</td>\n",
       "      <td>False</td>\n",
       "      <td>data:image/svg+xml;base64,PHN2ZyB2ZXJzaW9uPSIx...</td>\n",
       "      <td>SourceOn live map\\nTell friends\\n4 hours ago -...</td>\n",
       "      <td>False</td>\n",
       "      <td>50°38′N 29°55′E</td>\n",
       "      <td>2022-04-04 09:50:58</td>\n",
       "    </tr>\n",
       "    <tr>\n",
       "      <th>3</th>\n",
       "      <td>3</td>\n",
       "      <td>3</td>\n",
       "      <td>8ea2c08f-d9ff-4aa8-b710-9b6f26c7bb39</td>\n",
       "      <td>['Scott Lucas']</td>\n",
       "      <td>2022-04-04 06:24:08+01:00</td>\n",
       "      <td>Larisa Savenko outside her damaged house in Bu...</td>\n",
       "      <td>https://eaworldview.com/2022/04/ukraine-war-bu...</td>\n",
       "      <td>17</td>\n",
       "      <td>17</td>\n",
       "      <td>8ea2c08f-d9ff-4aa8-b710-9b6f26c7bb39</td>\n",
       "      <td>Prosecutor General Venediktova says that the w...</td>\n",
       "      <td>4 hours ago</td>\n",
       "      <td>https://twitter.com/prm_ua/status/151097769528...</td>\n",
       "      <td>2022-04-04 13:47:14.411519</td>\n",
       "      <td>False</td>\n",
       "      <td>data:image/svg+xml;base64,PHN2ZyB2ZXJzaW9uPSIx...</td>\n",
       "      <td>SourceOn live map\\nTell friends\\n4 hours ago -...</td>\n",
       "      <td>False</td>\n",
       "      <td>50°38′N 29°55′E</td>\n",
       "      <td>2022-04-04 09:50:58</td>\n",
       "    </tr>\n",
       "    <tr>\n",
       "      <th>4</th>\n",
       "      <td>4</td>\n",
       "      <td>4</td>\n",
       "      <td>8ea2c08f-d9ff-4aa8-b710-9b6f26c7bb39</td>\n",
       "      <td>['Iryna Khalip', 'Natallia Radzina', 'Andrei S...</td>\n",
       "      <td>2022-04-04 00:00:00</td>\n",
       "      <td>AFU Repels Enemy Attacks On All Fronts 8 4.04....</td>\n",
       "      <td>https://charter97.org/en/news/2022/4/4/462037/</td>\n",
       "      <td>17</td>\n",
       "      <td>17</td>\n",
       "      <td>8ea2c08f-d9ff-4aa8-b710-9b6f26c7bb39</td>\n",
       "      <td>Prosecutor General Venediktova says that the w...</td>\n",
       "      <td>4 hours ago</td>\n",
       "      <td>https://twitter.com/prm_ua/status/151097769528...</td>\n",
       "      <td>2022-04-04 13:47:14.411519</td>\n",
       "      <td>False</td>\n",
       "      <td>data:image/svg+xml;base64,PHN2ZyB2ZXJzaW9uPSIx...</td>\n",
       "      <td>SourceOn live map\\nTell friends\\n4 hours ago -...</td>\n",
       "      <td>False</td>\n",
       "      <td>50°38′N 29°55′E</td>\n",
       "      <td>2022-04-04 09:50:58</td>\n",
       "    </tr>\n",
       "  </tbody>\n",
       "</table>\n",
       "</div>"
      ],
      "text/plain": [
       "   Unnamed: 0  art_Unnamed: 0                               art_uid  \\\n",
       "0           0               5  02b5cecd-fac3-4b89-80a2-5bc7d3356d51   \n",
       "1           1               1  8ea2c08f-d9ff-4aa8-b710-9b6f26c7bb39   \n",
       "2           2               2  8ea2c08f-d9ff-4aa8-b710-9b6f26c7bb39   \n",
       "3           3               3  8ea2c08f-d9ff-4aa8-b710-9b6f26c7bb39   \n",
       "4           4               4  8ea2c08f-d9ff-4aa8-b710-9b6f26c7bb39   \n",
       "\n",
       "                                  art_article_author  \\\n",
       "0                                   ['Jake Epstein']   \n",
       "1  ['Martin Belam', 'Léonie Chao-Fong', 'Gloria O...   \n",
       "2                                   ['Writer Smith']   \n",
       "3                                    ['Scott Lucas']   \n",
       "4  ['Iryna Khalip', 'Natallia Radzina', 'Andrei S...   \n",
       "\n",
       "            art_article_date  \\\n",
       "0        2022-04-04 00:00:00   \n",
       "1        2022-04-04 00:00:00   \n",
       "2  2022-04-04 17:59:18+00:00   \n",
       "3  2022-04-04 06:24:08+01:00   \n",
       "4        2022-04-04 00:00:00   \n",
       "\n",
       "                                    art_article_text  \\\n",
       "0  Lithuania's top diplomat said buying Russian o...   \n",
       "1  This live blog is now closed, you can follow a...   \n",
       "2  The Prosecutor General’s Office was able to re...   \n",
       "3  Larisa Savenko outside her damaged house in Bu...   \n",
       "4  AFU Repels Enemy Attacks On All Fronts 8 4.04....   \n",
       "\n",
       "                                     art_article_url  ref_Unnamed: 0  \\\n",
       "0  https://www.businessinsider.com/lithuania-dipl...              16   \n",
       "1  https://www.theguardian.com/world/live/2022/ap...              17   \n",
       "2  https://news84media.com/russia-ukraine/the-wor...              17   \n",
       "3  https://eaworldview.com/2022/04/ukraine-war-bu...              17   \n",
       "4     https://charter97.org/en/news/2022/4/4/462037/              17   \n",
       "\n",
       "   ref_Unnamed: 0.1                               ref_uid  \\\n",
       "0                16  02b5cecd-fac3-4b89-80a2-5bc7d3356d51   \n",
       "1                17  8ea2c08f-d9ff-4aa8-b710-9b6f26c7bb39   \n",
       "2                17  8ea2c08f-d9ff-4aa8-b710-9b6f26c7bb39   \n",
       "3                17  8ea2c08f-d9ff-4aa8-b710-9b6f26c7bb39   \n",
       "4                17  8ea2c08f-d9ff-4aa8-b710-9b6f26c7bb39   \n",
       "\n",
       "                                           ref_title     ref_time  \\\n",
       "0  Lithuanian ambassador to Ukraine to return to ...  4 hours ago   \n",
       "1  Prosecutor General Venediktova says that the w...  4 hours ago   \n",
       "2  Prosecutor General Venediktova says that the w...  4 hours ago   \n",
       "3  Prosecutor General Venediktova says that the w...  4 hours ago   \n",
       "4  Prosecutor General Venediktova says that the w...  4 hours ago   \n",
       "\n",
       "                                          ref_source  \\\n",
       "0  https://twitter.com/idreesali114/status/151098...   \n",
       "1  https://twitter.com/prm_ua/status/151097769528...   \n",
       "2  https://twitter.com/prm_ua/status/151097769528...   \n",
       "3  https://twitter.com/prm_ua/status/151097769528...   \n",
       "4  https://twitter.com/prm_ua/status/151097769528...   \n",
       "\n",
       "             ref_time-capture  ref_sc  \\\n",
       "0  2022-04-04 13:47:10.051481   False   \n",
       "1  2022-04-04 13:47:14.411519   False   \n",
       "2  2022-04-04 13:47:14.411519   False   \n",
       "3  2022-04-04 13:47:14.411519   False   \n",
       "4  2022-04-04 13:47:14.411519   False   \n",
       "\n",
       "                                          ref_domain  \\\n",
       "0  data:image/svg+xml;base64,PHN2ZyB2ZXJzaW9uPSIx...   \n",
       "1  data:image/svg+xml;base64,PHN2ZyB2ZXJzaW9uPSIx...   \n",
       "2  data:image/svg+xml;base64,PHN2ZyB2ZXJzaW9uPSIx...   \n",
       "3  data:image/svg+xml;base64,PHN2ZyB2ZXJzaW9uPSIx...   \n",
       "4  data:image/svg+xml;base64,PHN2ZyB2ZXJzaW9uPSIx...   \n",
       "\n",
       "                                       ref_full-text  ref_sc2  \\\n",
       "0  SourceOn live map\\nTell friends\\n4 hours ago -...    False   \n",
       "1  SourceOn live map\\nTell friends\\n4 hours ago -...    False   \n",
       "2  SourceOn live map\\nTell friends\\n4 hours ago -...    False   \n",
       "3  SourceOn live map\\nTell friends\\n4 hours ago -...    False   \n",
       "4  SourceOn live map\\nTell friends\\n4 hours ago -...    False   \n",
       "\n",
       "           ref_geo      ref_time_parsed  \n",
       "0  54°41′N 25°16′E  2022-04-04 09:50:58  \n",
       "1  50°38′N 29°55′E  2022-04-04 09:50:58  \n",
       "2  50°38′N 29°55′E  2022-04-04 09:50:58  \n",
       "3  50°38′N 29°55′E  2022-04-04 09:50:58  \n",
       "4  50°38′N 29°55′E  2022-04-04 09:50:58  "
      ]
     },
     "execution_count": 4,
     "metadata": {},
     "output_type": "execute_result"
    }
   ],
   "source": [
    "df = pd.read_csv('../data/processed/author-parse-articles.csv')\n",
    "df.head()"
   ]
  },
  {
   "cell_type": "code",
   "execution_count": 5,
   "id": "b5eec3f6",
   "metadata": {},
   "outputs": [],
   "source": [
    "# Getting Domains From News Websites \n",
    "m = df['art_article_url'].str.extract('(?<=http://)(.*?)(?=/)|(?<=https://)(.*?)(?=/)')\n",
    "m = m[0].fillna(m[1]).fillna(df['art_article_url'])\n",
    "df['art_extracted_domain'] = m"
   ]
  },
  {
   "cell_type": "code",
   "execution_count": 6,
   "id": "e7d716e6",
   "metadata": {},
   "outputs": [
    {
     "data": {
      "text/plain": [
       "3.8373639661426844"
      ]
     },
     "execution_count": 6,
     "metadata": {},
     "output_type": "execute_result"
    }
   ],
   "source": [
    "df.groupby(['ref_uid']).size().mean()"
   ]
  },
  {
   "cell_type": "code",
   "execution_count": 45,
   "id": "d74e8dfe",
   "metadata": {},
   "outputs": [
    {
     "data": {
      "text/html": [
       "<div>\n",
       "<style scoped>\n",
       "    .dataframe tbody tr th:only-of-type {\n",
       "        vertical-align: middle;\n",
       "    }\n",
       "\n",
       "    .dataframe tbody tr th {\n",
       "        vertical-align: top;\n",
       "    }\n",
       "\n",
       "    .dataframe thead th {\n",
       "        text-align: right;\n",
       "    }\n",
       "</style>\n",
       "<table border=\"1\" class=\"dataframe\">\n",
       "  <thead>\n",
       "    <tr style=\"text-align: right;\">\n",
       "      <th></th>\n",
       "      <th>Unnamed: 0</th>\n",
       "      <th>art_Unnamed: 0</th>\n",
       "      <th>art_uid</th>\n",
       "      <th>art_article_author</th>\n",
       "      <th>art_article_date</th>\n",
       "      <th>art_article_text</th>\n",
       "      <th>art_article_url</th>\n",
       "      <th>ref_Unnamed: 0</th>\n",
       "      <th>ref_Unnamed: 0.1</th>\n",
       "      <th>ref_uid</th>\n",
       "      <th>...</th>\n",
       "      <th>ref_time</th>\n",
       "      <th>ref_source</th>\n",
       "      <th>ref_time-capture</th>\n",
       "      <th>ref_sc</th>\n",
       "      <th>ref_domain</th>\n",
       "      <th>ref_full-text</th>\n",
       "      <th>ref_sc2</th>\n",
       "      <th>ref_geo</th>\n",
       "      <th>ref_time_parsed</th>\n",
       "      <th>art_extracted_domain</th>\n",
       "    </tr>\n",
       "  </thead>\n",
       "  <tbody>\n",
       "    <tr>\n",
       "      <th>0</th>\n",
       "      <td>0</td>\n",
       "      <td>5</td>\n",
       "      <td>02b5cecd-fac3-4b89-80a2-5bc7d3356d51</td>\n",
       "      <td>['Jake Epstein']</td>\n",
       "      <td>2022-04-04 00:00:00</td>\n",
       "      <td>Lithuania's top diplomat said buying Russian o...</td>\n",
       "      <td>https://www.businessinsider.com/lithuania-dipl...</td>\n",
       "      <td>16</td>\n",
       "      <td>16</td>\n",
       "      <td>02b5cecd-fac3-4b89-80a2-5bc7d3356d51</td>\n",
       "      <td>...</td>\n",
       "      <td>4 hours ago</td>\n",
       "      <td>https://twitter.com/idreesali114/status/151098...</td>\n",
       "      <td>2022-04-04 13:47:10.051481</td>\n",
       "      <td>False</td>\n",
       "      <td>data:image/svg+xml;base64,PHN2ZyB2ZXJzaW9uPSIx...</td>\n",
       "      <td>SourceOn live map\\nTell friends\\n4 hours ago -...</td>\n",
       "      <td>False</td>\n",
       "      <td>54°41′N 25°16′E</td>\n",
       "      <td>2022-04-04 09:50:58</td>\n",
       "      <td>www.businessinsider.com</td>\n",
       "    </tr>\n",
       "    <tr>\n",
       "      <th>1</th>\n",
       "      <td>1</td>\n",
       "      <td>1</td>\n",
       "      <td>8ea2c08f-d9ff-4aa8-b710-9b6f26c7bb39</td>\n",
       "      <td>['Martin Belam', 'Léonie Chao-Fong', 'Gloria O...</td>\n",
       "      <td>2022-04-04 00:00:00</td>\n",
       "      <td>This live blog is now closed, you can follow a...</td>\n",
       "      <td>https://www.theguardian.com/world/live/2022/ap...</td>\n",
       "      <td>17</td>\n",
       "      <td>17</td>\n",
       "      <td>8ea2c08f-d9ff-4aa8-b710-9b6f26c7bb39</td>\n",
       "      <td>...</td>\n",
       "      <td>4 hours ago</td>\n",
       "      <td>https://twitter.com/prm_ua/status/151097769528...</td>\n",
       "      <td>2022-04-04 13:47:14.411519</td>\n",
       "      <td>False</td>\n",
       "      <td>data:image/svg+xml;base64,PHN2ZyB2ZXJzaW9uPSIx...</td>\n",
       "      <td>SourceOn live map\\nTell friends\\n4 hours ago -...</td>\n",
       "      <td>False</td>\n",
       "      <td>50°38′N 29°55′E</td>\n",
       "      <td>2022-04-04 09:50:58</td>\n",
       "      <td>www.theguardian.com</td>\n",
       "    </tr>\n",
       "    <tr>\n",
       "      <th>2</th>\n",
       "      <td>2</td>\n",
       "      <td>2</td>\n",
       "      <td>8ea2c08f-d9ff-4aa8-b710-9b6f26c7bb39</td>\n",
       "      <td>['Writer Smith']</td>\n",
       "      <td>2022-04-04 17:59:18+00:00</td>\n",
       "      <td>The Prosecutor General’s Office was able to re...</td>\n",
       "      <td>https://news84media.com/russia-ukraine/the-wor...</td>\n",
       "      <td>17</td>\n",
       "      <td>17</td>\n",
       "      <td>8ea2c08f-d9ff-4aa8-b710-9b6f26c7bb39</td>\n",
       "      <td>...</td>\n",
       "      <td>4 hours ago</td>\n",
       "      <td>https://twitter.com/prm_ua/status/151097769528...</td>\n",
       "      <td>2022-04-04 13:47:14.411519</td>\n",
       "      <td>False</td>\n",
       "      <td>data:image/svg+xml;base64,PHN2ZyB2ZXJzaW9uPSIx...</td>\n",
       "      <td>SourceOn live map\\nTell friends\\n4 hours ago -...</td>\n",
       "      <td>False</td>\n",
       "      <td>50°38′N 29°55′E</td>\n",
       "      <td>2022-04-04 09:50:58</td>\n",
       "      <td>news84media.com</td>\n",
       "    </tr>\n",
       "    <tr>\n",
       "      <th>3</th>\n",
       "      <td>3</td>\n",
       "      <td>3</td>\n",
       "      <td>8ea2c08f-d9ff-4aa8-b710-9b6f26c7bb39</td>\n",
       "      <td>['Scott Lucas']</td>\n",
       "      <td>2022-04-04 06:24:08+01:00</td>\n",
       "      <td>Larisa Savenko outside her damaged house in Bu...</td>\n",
       "      <td>https://eaworldview.com/2022/04/ukraine-war-bu...</td>\n",
       "      <td>17</td>\n",
       "      <td>17</td>\n",
       "      <td>8ea2c08f-d9ff-4aa8-b710-9b6f26c7bb39</td>\n",
       "      <td>...</td>\n",
       "      <td>4 hours ago</td>\n",
       "      <td>https://twitter.com/prm_ua/status/151097769528...</td>\n",
       "      <td>2022-04-04 13:47:14.411519</td>\n",
       "      <td>False</td>\n",
       "      <td>data:image/svg+xml;base64,PHN2ZyB2ZXJzaW9uPSIx...</td>\n",
       "      <td>SourceOn live map\\nTell friends\\n4 hours ago -...</td>\n",
       "      <td>False</td>\n",
       "      <td>50°38′N 29°55′E</td>\n",
       "      <td>2022-04-04 09:50:58</td>\n",
       "      <td>eaworldview.com</td>\n",
       "    </tr>\n",
       "    <tr>\n",
       "      <th>4</th>\n",
       "      <td>4</td>\n",
       "      <td>4</td>\n",
       "      <td>8ea2c08f-d9ff-4aa8-b710-9b6f26c7bb39</td>\n",
       "      <td>['Iryna Khalip', 'Natallia Radzina', 'Andrei S...</td>\n",
       "      <td>2022-04-04 00:00:00</td>\n",
       "      <td>AFU Repels Enemy Attacks On All Fronts 8 4.04....</td>\n",
       "      <td>https://charter97.org/en/news/2022/4/4/462037/</td>\n",
       "      <td>17</td>\n",
       "      <td>17</td>\n",
       "      <td>8ea2c08f-d9ff-4aa8-b710-9b6f26c7bb39</td>\n",
       "      <td>...</td>\n",
       "      <td>4 hours ago</td>\n",
       "      <td>https://twitter.com/prm_ua/status/151097769528...</td>\n",
       "      <td>2022-04-04 13:47:14.411519</td>\n",
       "      <td>False</td>\n",
       "      <td>data:image/svg+xml;base64,PHN2ZyB2ZXJzaW9uPSIx...</td>\n",
       "      <td>SourceOn live map\\nTell friends\\n4 hours ago -...</td>\n",
       "      <td>False</td>\n",
       "      <td>50°38′N 29°55′E</td>\n",
       "      <td>2022-04-04 09:50:58</td>\n",
       "      <td>charter97.org</td>\n",
       "    </tr>\n",
       "  </tbody>\n",
       "</table>\n",
       "<p>5 rows × 21 columns</p>\n",
       "</div>"
      ],
      "text/plain": [
       "   Unnamed: 0  art_Unnamed: 0                               art_uid  \\\n",
       "0           0               5  02b5cecd-fac3-4b89-80a2-5bc7d3356d51   \n",
       "1           1               1  8ea2c08f-d9ff-4aa8-b710-9b6f26c7bb39   \n",
       "2           2               2  8ea2c08f-d9ff-4aa8-b710-9b6f26c7bb39   \n",
       "3           3               3  8ea2c08f-d9ff-4aa8-b710-9b6f26c7bb39   \n",
       "4           4               4  8ea2c08f-d9ff-4aa8-b710-9b6f26c7bb39   \n",
       "\n",
       "                                  art_article_author  \\\n",
       "0                                   ['Jake Epstein']   \n",
       "1  ['Martin Belam', 'Léonie Chao-Fong', 'Gloria O...   \n",
       "2                                   ['Writer Smith']   \n",
       "3                                    ['Scott Lucas']   \n",
       "4  ['Iryna Khalip', 'Natallia Radzina', 'Andrei S...   \n",
       "\n",
       "            art_article_date  \\\n",
       "0        2022-04-04 00:00:00   \n",
       "1        2022-04-04 00:00:00   \n",
       "2  2022-04-04 17:59:18+00:00   \n",
       "3  2022-04-04 06:24:08+01:00   \n",
       "4        2022-04-04 00:00:00   \n",
       "\n",
       "                                    art_article_text  \\\n",
       "0  Lithuania's top diplomat said buying Russian o...   \n",
       "1  This live blog is now closed, you can follow a...   \n",
       "2  The Prosecutor General’s Office was able to re...   \n",
       "3  Larisa Savenko outside her damaged house in Bu...   \n",
       "4  AFU Repels Enemy Attacks On All Fronts 8 4.04....   \n",
       "\n",
       "                                     art_article_url  ref_Unnamed: 0  \\\n",
       "0  https://www.businessinsider.com/lithuania-dipl...              16   \n",
       "1  https://www.theguardian.com/world/live/2022/ap...              17   \n",
       "2  https://news84media.com/russia-ukraine/the-wor...              17   \n",
       "3  https://eaworldview.com/2022/04/ukraine-war-bu...              17   \n",
       "4     https://charter97.org/en/news/2022/4/4/462037/              17   \n",
       "\n",
       "   ref_Unnamed: 0.1                               ref_uid  ...     ref_time  \\\n",
       "0                16  02b5cecd-fac3-4b89-80a2-5bc7d3356d51  ...  4 hours ago   \n",
       "1                17  8ea2c08f-d9ff-4aa8-b710-9b6f26c7bb39  ...  4 hours ago   \n",
       "2                17  8ea2c08f-d9ff-4aa8-b710-9b6f26c7bb39  ...  4 hours ago   \n",
       "3                17  8ea2c08f-d9ff-4aa8-b710-9b6f26c7bb39  ...  4 hours ago   \n",
       "4                17  8ea2c08f-d9ff-4aa8-b710-9b6f26c7bb39  ...  4 hours ago   \n",
       "\n",
       "                                          ref_source  \\\n",
       "0  https://twitter.com/idreesali114/status/151098...   \n",
       "1  https://twitter.com/prm_ua/status/151097769528...   \n",
       "2  https://twitter.com/prm_ua/status/151097769528...   \n",
       "3  https://twitter.com/prm_ua/status/151097769528...   \n",
       "4  https://twitter.com/prm_ua/status/151097769528...   \n",
       "\n",
       "             ref_time-capture ref_sc  \\\n",
       "0  2022-04-04 13:47:10.051481  False   \n",
       "1  2022-04-04 13:47:14.411519  False   \n",
       "2  2022-04-04 13:47:14.411519  False   \n",
       "3  2022-04-04 13:47:14.411519  False   \n",
       "4  2022-04-04 13:47:14.411519  False   \n",
       "\n",
       "                                          ref_domain  \\\n",
       "0  data:image/svg+xml;base64,PHN2ZyB2ZXJzaW9uPSIx...   \n",
       "1  data:image/svg+xml;base64,PHN2ZyB2ZXJzaW9uPSIx...   \n",
       "2  data:image/svg+xml;base64,PHN2ZyB2ZXJzaW9uPSIx...   \n",
       "3  data:image/svg+xml;base64,PHN2ZyB2ZXJzaW9uPSIx...   \n",
       "4  data:image/svg+xml;base64,PHN2ZyB2ZXJzaW9uPSIx...   \n",
       "\n",
       "                                       ref_full-text ref_sc2          ref_geo  \\\n",
       "0  SourceOn live map\\nTell friends\\n4 hours ago -...   False  54°41′N 25°16′E   \n",
       "1  SourceOn live map\\nTell friends\\n4 hours ago -...   False  50°38′N 29°55′E   \n",
       "2  SourceOn live map\\nTell friends\\n4 hours ago -...   False  50°38′N 29°55′E   \n",
       "3  SourceOn live map\\nTell friends\\n4 hours ago -...   False  50°38′N 29°55′E   \n",
       "4  SourceOn live map\\nTell friends\\n4 hours ago -...   False  50°38′N 29°55′E   \n",
       "\n",
       "       ref_time_parsed     art_extracted_domain  \n",
       "0  2022-04-04 09:50:58  www.businessinsider.com  \n",
       "1  2022-04-04 09:50:58      www.theguardian.com  \n",
       "2  2022-04-04 09:50:58          news84media.com  \n",
       "3  2022-04-04 09:50:58          eaworldview.com  \n",
       "4  2022-04-04 09:50:58            charter97.org  \n",
       "\n",
       "[5 rows x 21 columns]"
      ]
     },
     "execution_count": 45,
     "metadata": {},
     "output_type": "execute_result"
    }
   ],
   "source": [
    "df.head()"
   ]
  },
  {
   "cell_type": "code",
   "execution_count": 47,
   "id": "ffcd1d72",
   "metadata": {},
   "outputs": [
    {
     "data": {
      "text/plain": [
       "489"
      ]
     },
     "execution_count": 47,
     "metadata": {},
     "output_type": "execute_result"
    }
   ],
   "source": [
    "df.groupby(['art_extracted_domain']).size().max()"
   ]
  },
  {
   "cell_type": "code",
   "execution_count": 48,
   "id": "6d4ea2cd",
   "metadata": {},
   "outputs": [
    {
     "data": {
      "text/plain": [
       "1"
      ]
     },
     "execution_count": 48,
     "metadata": {},
     "output_type": "execute_result"
    }
   ],
   "source": [
    "df.groupby(['art_extracted_domain']).size().min()"
   ]
  },
  {
   "cell_type": "code",
   "execution_count": 49,
   "id": "0e8f2b39",
   "metadata": {},
   "outputs": [
    {
     "data": {
      "text/plain": [
       "28.427288961395924"
      ]
     },
     "execution_count": 49,
     "metadata": {},
     "output_type": "execute_result"
    }
   ],
   "source": [
    "df.groupby(['art_extracted_domain']).size().std()"
   ]
  },
  {
   "cell_type": "code",
   "execution_count": 50,
   "id": "a7512cec",
   "metadata": {},
   "outputs": [
    {
     "data": {
      "text/plain": [
       "7.036585365853658"
      ]
     },
     "execution_count": 50,
     "metadata": {},
     "output_type": "execute_result"
    }
   ],
   "source": [
    "df.groupby(['art_extracted_domain']).size().mean()"
   ]
  },
  {
   "cell_type": "markdown",
   "id": "e7d4c406",
   "metadata": {},
   "source": [
    "# Split Based on Domains \n",
    "\n",
    "Topic Modelling \n",
    "\n",
    "1. We have on avg 7 articles from each domain(news site)\n",
    "2. We only keep domains with more than 20 articles \n",
    "3. Topic model and find topics that a website is more likely to publish \n",
    "\n",
    "\n"
   ]
  },
  {
   "cell_type": "code",
   "execution_count": 16,
   "id": "689cc5a3",
   "metadata": {},
   "outputs": [],
   "source": [
    "t = df.groupby(['art_extracted_domain']).size()"
   ]
  },
  {
   "cell_type": "markdown",
   "id": "2b08e93a",
   "metadata": {},
   "source": [
    "### 20 News articles from a source\n",
    "\n",
    "around 40 news sources above\n",
    "\n",
    "__TODO__\n",
    "\n",
    "\n",
    "\n",
    "\n",
    "\n",
    "\n"
   ]
  },
  {
   "cell_type": "markdown",
   "id": "95ccd189",
   "metadata": {},
   "source": [
    "# Split based on reference \n",
    "\n",
    "\n",
    "1. Can we compare word2vec similarity [george]\n",
    "    - Convert each article with same reference into w2v representations. \n",
    "         - Find w2v representation for same reference articles \n",
    "         - Find hotwords in the article using topic modelling \n",
    "         - Match the common hotwords between articles \n",
    "         - Find distances (Combination of 2)\n",
    "         \n",
    "> __Find Similarity b/w reporting__ <br/>\n",
    "    - Word2Vec based approach (G)<br/>\n",
    "    - BERT based approact (G)<br/>\n",
    "    - Transformer (Sam)<br/>\n",
    "    \n",
    "    "
   ]
  },
  {
   "cell_type": "code",
   "execution_count": 22,
   "id": "2f1dfd10",
   "metadata": {},
   "outputs": [
    {
     "data": {
      "text/plain": [
       "3.8373639661426844"
      ]
     },
     "execution_count": 22,
     "metadata": {},
     "output_type": "execute_result"
    }
   ],
   "source": [
    "df.groupby(['ref_uid']).size().mean()\n",
    "\n",
    "# This basically means around 4 articles per reference"
   ]
  },
  {
   "cell_type": "code",
   "execution_count": 39,
   "id": "5e444471",
   "metadata": {},
   "outputs": [],
   "source": [
    "word_series = df['ref_title'].str.split(' ')"
   ]
  },
  {
   "cell_type": "code",
   "execution_count": 43,
   "id": "aba0ca49",
   "metadata": {},
   "outputs": [],
   "source": [
    "summing = 0  \n",
    "index = 1 \n",
    "for words in word_series.to_list():\n",
    "    summing = summing + len(words)\n",
    "    index = index + 1 \n",
    "    \n",
    "    "
   ]
  },
  {
   "cell_type": "code",
   "execution_count": 44,
   "id": "84f979aa",
   "metadata": {},
   "outputs": [
    {
     "data": {
      "text/plain": [
       "18.230308758664147"
      ]
     },
     "execution_count": 44,
     "metadata": {},
     "output_type": "execute_result"
    }
   ],
   "source": [
    "summing/index"
   ]
  },
  {
   "cell_type": "code",
   "execution_count": 31,
   "id": "4a163d29",
   "metadata": {},
   "outputs": [
    {
     "data": {
      "text/plain": [
       "27"
      ]
     },
     "execution_count": 31,
     "metadata": {},
     "output_type": "execute_result"
    }
   ],
   "source": [
    "len('aoisubfoas aosfaoisf oais f')"
   ]
  }
 ],
 "metadata": {
  "kernelspec": {
   "display_name": "Python 3 (ipykernel)",
   "language": "python",
   "name": "python3"
  },
  "language_info": {
   "codemirror_mode": {
    "name": "ipython",
    "version": 3
   },
   "file_extension": ".py",
   "mimetype": "text/x-python",
   "name": "python",
   "nbconvert_exporter": "python",
   "pygments_lexer": "ipython3",
   "version": "3.9.7"
  }
 },
 "nbformat": 4,
 "nbformat_minor": 5
}
